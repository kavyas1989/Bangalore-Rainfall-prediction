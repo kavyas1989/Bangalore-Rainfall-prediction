{
  "nbformat": 4,
  "nbformat_minor": 0,
  "metadata": {
    "colab": {
      "provenance": [],
      "collapsed_sections": [
        "Pizrrsakf7za",
        "LbznMPW-g3gg",
        "dPkGwQcZSebE",
        "uAKlrS4qS4Ng",
        "2GlZdzv1TJr3",
        "hw4XiuXwdHNe",
        "SVtnVj2uXS7P",
        "RH2iXJccY9d2"
      ],
      "authorship_tag": "ABX9TyOHj4VAFf1GF9gPjcrOloF+",
      "include_colab_link": true
    },
    "kernelspec": {
      "name": "python3",
      "display_name": "Python 3"
    },
    "language_info": {
      "name": "python"
    }
  },
  "cells": [
    {
      "cell_type": "markdown",
      "metadata": {
        "id": "view-in-github",
        "colab_type": "text"
      },
      "source": [
        "<a href=\"https://colab.research.google.com/github/kavyas1989/Bangalore-Rainfall-prediction/blob/main/Bangalore_rainfall_model.ipynb\" target=\"_parent\"><img src=\"https://colab.research.google.com/assets/colab-badge.svg\" alt=\"Open In Colab\"/></a>"
      ]
    },
    {
      "cell_type": "markdown",
      "source": [
        "**Project Aim : Predicting whether a customer will default on his/her credit card**\n",
        "\n",
        "**This project is weather forecast model about predicting whether it will be rain in a day or not. **"
      ],
      "metadata": {
        "id": "afftbPrYfDwz"
      }
    },
    {
      "cell_type": "code",
      "execution_count": 341,
      "metadata": {
        "id": "cJP3V1PdJZR8"
      },
      "outputs": [],
      "source": [
        "# import all the necessary libraries\n",
        "\n",
        "import numpy as np\n",
        "import pandas as pd\n",
        "import matplotlib.pyplot as plt\n",
        "import seaborn as sns\n",
        "\n",
        "%matplotlib inline\n",
        "# import warning \n",
        "import warnings\n",
        "warnings.filterwarnings('ignore')\n",
        " \n",
        "#import datetime library t wrok with datetime values\n",
        "from datetime import datetime\n",
        "import datetime as dt\n"
      ]
    },
    {
      "cell_type": "markdown",
      "source": [
        "## Data Overview and Decription"
      ],
      "metadata": {
        "id": "Pizrrsakf7za"
      }
    },
    {
      "cell_type": "code",
      "source": [
        "# load the dataset\n",
        "\n",
        "data = pd.read_csv('/content/bangalore_climate_data.csv')"
      ],
      "metadata": {
        "id": "19Xsk1NmJ_0U"
      },
      "execution_count": 342,
      "outputs": []
    },
    {
      "cell_type": "code",
      "source": [
        "# intial data overview\n",
        "data.head()"
      ],
      "metadata": {
        "colab": {
          "base_uri": "https://localhost:8080/",
          "height": 374
        },
        "id": "1y4iIkyGKdas",
        "outputId": "d6aef25e-bcc3-4334-8829-f06a67929a36"
      },
      "execution_count": 343,
      "outputs": [
        {
          "output_type": "execute_result",
          "data": {
            "text/plain": [
              "               time  temperature_2m (°C)  relativehumidity_2m (%)  \\\n",
              "0  2020-01-01T00:00                 18.8                       94   \n",
              "1  2020-01-01T01:00                 18.8                       94   \n",
              "2  2020-01-01T02:00                 18.6                       95   \n",
              "3  2020-01-01T03:00                 18.4                       95   \n",
              "4  2020-01-01T04:00                 18.2                       95   \n",
              "\n",
              "   dewpoint_2m (°C)  pressure_msl (hPa)  surface_pressure (hPa)  rain (mm)  \\\n",
              "0              17.8              1016.1                   921.4        0.0   \n",
              "1              17.7              1015.7                   920.8        0.0   \n",
              "2              17.7              1015.2                   920.3        0.0   \n",
              "3              17.6              1014.9                   920.0        0.0   \n",
              "4              17.4              1015.2                   920.2        0.0   \n",
              "\n",
              "   snowfall (cm)  cloudcover_low (%)  cloudcover_mid (%)  \\\n",
              "0              0                  94                   4   \n",
              "1              0                  99                   8   \n",
              "2              0                  99                   9   \n",
              "3              0                  96                  17   \n",
              "4              0                  98                  13   \n",
              "\n",
              "   shortwave_radiation (W/m²)  direct_radiation (W/m²)  windspeed_100m (km/h)  \\\n",
              "0                           0                        0                   22.9   \n",
              "1                           0                        0                   21.7   \n",
              "2                           0                        0                   20.3   \n",
              "3                           0                        0                   21.1   \n",
              "4                           0                        0                   20.3   \n",
              "\n",
              "   vapor_pressure_deficit (kPa)  soil_temperature_0_to_7cm (°C)  \\\n",
              "0                          0.14                            20.9   \n",
              "1                          0.14                            20.8   \n",
              "2                          0.12                            20.7   \n",
              "3                          0.11                            20.6   \n",
              "4                          0.10                            20.5   \n",
              "\n",
              "   soil_moisture_0_to_7cm (m³/m³)  \n",
              "0                           0.314  \n",
              "1                           0.314  \n",
              "2                           0.314  \n",
              "3                           0.314  \n",
              "4                           0.314  "
            ],
            "text/html": [
              "\n",
              "  <div id=\"df-6f075fa9-87b7-4953-b515-054b51bf1166\">\n",
              "    <div class=\"colab-df-container\">\n",
              "      <div>\n",
              "<style scoped>\n",
              "    .dataframe tbody tr th:only-of-type {\n",
              "        vertical-align: middle;\n",
              "    }\n",
              "\n",
              "    .dataframe tbody tr th {\n",
              "        vertical-align: top;\n",
              "    }\n",
              "\n",
              "    .dataframe thead th {\n",
              "        text-align: right;\n",
              "    }\n",
              "</style>\n",
              "<table border=\"1\" class=\"dataframe\">\n",
              "  <thead>\n",
              "    <tr style=\"text-align: right;\">\n",
              "      <th></th>\n",
              "      <th>time</th>\n",
              "      <th>temperature_2m (°C)</th>\n",
              "      <th>relativehumidity_2m (%)</th>\n",
              "      <th>dewpoint_2m (°C)</th>\n",
              "      <th>pressure_msl (hPa)</th>\n",
              "      <th>surface_pressure (hPa)</th>\n",
              "      <th>rain (mm)</th>\n",
              "      <th>snowfall (cm)</th>\n",
              "      <th>cloudcover_low (%)</th>\n",
              "      <th>cloudcover_mid (%)</th>\n",
              "      <th>shortwave_radiation (W/m²)</th>\n",
              "      <th>direct_radiation (W/m²)</th>\n",
              "      <th>windspeed_100m (km/h)</th>\n",
              "      <th>vapor_pressure_deficit (kPa)</th>\n",
              "      <th>soil_temperature_0_to_7cm (°C)</th>\n",
              "      <th>soil_moisture_0_to_7cm (m³/m³)</th>\n",
              "    </tr>\n",
              "  </thead>\n",
              "  <tbody>\n",
              "    <tr>\n",
              "      <th>0</th>\n",
              "      <td>2020-01-01T00:00</td>\n",
              "      <td>18.8</td>\n",
              "      <td>94</td>\n",
              "      <td>17.8</td>\n",
              "      <td>1016.1</td>\n",
              "      <td>921.4</td>\n",
              "      <td>0.0</td>\n",
              "      <td>0</td>\n",
              "      <td>94</td>\n",
              "      <td>4</td>\n",
              "      <td>0</td>\n",
              "      <td>0</td>\n",
              "      <td>22.9</td>\n",
              "      <td>0.14</td>\n",
              "      <td>20.9</td>\n",
              "      <td>0.314</td>\n",
              "    </tr>\n",
              "    <tr>\n",
              "      <th>1</th>\n",
              "      <td>2020-01-01T01:00</td>\n",
              "      <td>18.8</td>\n",
              "      <td>94</td>\n",
              "      <td>17.7</td>\n",
              "      <td>1015.7</td>\n",
              "      <td>920.8</td>\n",
              "      <td>0.0</td>\n",
              "      <td>0</td>\n",
              "      <td>99</td>\n",
              "      <td>8</td>\n",
              "      <td>0</td>\n",
              "      <td>0</td>\n",
              "      <td>21.7</td>\n",
              "      <td>0.14</td>\n",
              "      <td>20.8</td>\n",
              "      <td>0.314</td>\n",
              "    </tr>\n",
              "    <tr>\n",
              "      <th>2</th>\n",
              "      <td>2020-01-01T02:00</td>\n",
              "      <td>18.6</td>\n",
              "      <td>95</td>\n",
              "      <td>17.7</td>\n",
              "      <td>1015.2</td>\n",
              "      <td>920.3</td>\n",
              "      <td>0.0</td>\n",
              "      <td>0</td>\n",
              "      <td>99</td>\n",
              "      <td>9</td>\n",
              "      <td>0</td>\n",
              "      <td>0</td>\n",
              "      <td>20.3</td>\n",
              "      <td>0.12</td>\n",
              "      <td>20.7</td>\n",
              "      <td>0.314</td>\n",
              "    </tr>\n",
              "    <tr>\n",
              "      <th>3</th>\n",
              "      <td>2020-01-01T03:00</td>\n",
              "      <td>18.4</td>\n",
              "      <td>95</td>\n",
              "      <td>17.6</td>\n",
              "      <td>1014.9</td>\n",
              "      <td>920.0</td>\n",
              "      <td>0.0</td>\n",
              "      <td>0</td>\n",
              "      <td>96</td>\n",
              "      <td>17</td>\n",
              "      <td>0</td>\n",
              "      <td>0</td>\n",
              "      <td>21.1</td>\n",
              "      <td>0.11</td>\n",
              "      <td>20.6</td>\n",
              "      <td>0.314</td>\n",
              "    </tr>\n",
              "    <tr>\n",
              "      <th>4</th>\n",
              "      <td>2020-01-01T04:00</td>\n",
              "      <td>18.2</td>\n",
              "      <td>95</td>\n",
              "      <td>17.4</td>\n",
              "      <td>1015.2</td>\n",
              "      <td>920.2</td>\n",
              "      <td>0.0</td>\n",
              "      <td>0</td>\n",
              "      <td>98</td>\n",
              "      <td>13</td>\n",
              "      <td>0</td>\n",
              "      <td>0</td>\n",
              "      <td>20.3</td>\n",
              "      <td>0.10</td>\n",
              "      <td>20.5</td>\n",
              "      <td>0.314</td>\n",
              "    </tr>\n",
              "  </tbody>\n",
              "</table>\n",
              "</div>\n",
              "      <button class=\"colab-df-convert\" onclick=\"convertToInteractive('df-6f075fa9-87b7-4953-b515-054b51bf1166')\"\n",
              "              title=\"Convert this dataframe to an interactive table.\"\n",
              "              style=\"display:none;\">\n",
              "        \n",
              "  <svg xmlns=\"http://www.w3.org/2000/svg\" height=\"24px\"viewBox=\"0 0 24 24\"\n",
              "       width=\"24px\">\n",
              "    <path d=\"M0 0h24v24H0V0z\" fill=\"none\"/>\n",
              "    <path d=\"M18.56 5.44l.94 2.06.94-2.06 2.06-.94-2.06-.94-.94-2.06-.94 2.06-2.06.94zm-11 1L8.5 8.5l.94-2.06 2.06-.94-2.06-.94L8.5 2.5l-.94 2.06-2.06.94zm10 10l.94 2.06.94-2.06 2.06-.94-2.06-.94-.94-2.06-.94 2.06-2.06.94z\"/><path d=\"M17.41 7.96l-1.37-1.37c-.4-.4-.92-.59-1.43-.59-.52 0-1.04.2-1.43.59L10.3 9.45l-7.72 7.72c-.78.78-.78 2.05 0 2.83L4 21.41c.39.39.9.59 1.41.59.51 0 1.02-.2 1.41-.59l7.78-7.78 2.81-2.81c.8-.78.8-2.07 0-2.86zM5.41 20L4 18.59l7.72-7.72 1.47 1.35L5.41 20z\"/>\n",
              "  </svg>\n",
              "      </button>\n",
              "      \n",
              "  <style>\n",
              "    .colab-df-container {\n",
              "      display:flex;\n",
              "      flex-wrap:wrap;\n",
              "      gap: 12px;\n",
              "    }\n",
              "\n",
              "    .colab-df-convert {\n",
              "      background-color: #E8F0FE;\n",
              "      border: none;\n",
              "      border-radius: 50%;\n",
              "      cursor: pointer;\n",
              "      display: none;\n",
              "      fill: #1967D2;\n",
              "      height: 32px;\n",
              "      padding: 0 0 0 0;\n",
              "      width: 32px;\n",
              "    }\n",
              "\n",
              "    .colab-df-convert:hover {\n",
              "      background-color: #E2EBFA;\n",
              "      box-shadow: 0px 1px 2px rgba(60, 64, 67, 0.3), 0px 1px 3px 1px rgba(60, 64, 67, 0.15);\n",
              "      fill: #174EA6;\n",
              "    }\n",
              "\n",
              "    [theme=dark] .colab-df-convert {\n",
              "      background-color: #3B4455;\n",
              "      fill: #D2E3FC;\n",
              "    }\n",
              "\n",
              "    [theme=dark] .colab-df-convert:hover {\n",
              "      background-color: #434B5C;\n",
              "      box-shadow: 0px 1px 3px 1px rgba(0, 0, 0, 0.15);\n",
              "      filter: drop-shadow(0px 1px 2px rgba(0, 0, 0, 0.3));\n",
              "      fill: #FFFFFF;\n",
              "    }\n",
              "  </style>\n",
              "\n",
              "      <script>\n",
              "        const buttonEl =\n",
              "          document.querySelector('#df-6f075fa9-87b7-4953-b515-054b51bf1166 button.colab-df-convert');\n",
              "        buttonEl.style.display =\n",
              "          google.colab.kernel.accessAllowed ? 'block' : 'none';\n",
              "\n",
              "        async function convertToInteractive(key) {\n",
              "          const element = document.querySelector('#df-6f075fa9-87b7-4953-b515-054b51bf1166');\n",
              "          const dataTable =\n",
              "            await google.colab.kernel.invokeFunction('convertToInteractive',\n",
              "                                                     [key], {});\n",
              "          if (!dataTable) return;\n",
              "\n",
              "          const docLinkHtml = 'Like what you see? Visit the ' +\n",
              "            '<a target=\"_blank\" href=https://colab.research.google.com/notebooks/data_table.ipynb>data table notebook</a>'\n",
              "            + ' to learn more about interactive tables.';\n",
              "          element.innerHTML = '';\n",
              "          dataTable['output_type'] = 'display_data';\n",
              "          await google.colab.output.renderOutput(dataTable, element);\n",
              "          const docLink = document.createElement('div');\n",
              "          docLink.innerHTML = docLinkHtml;\n",
              "          element.appendChild(docLink);\n",
              "        }\n",
              "      </script>\n",
              "    </div>\n",
              "  </div>\n",
              "  "
            ]
          },
          "metadata": {},
          "execution_count": 343
        }
      ]
    },
    {
      "cell_type": "code",
      "source": [
        "# dataset columns\n",
        "data.columns"
      ],
      "metadata": {
        "colab": {
          "base_uri": "https://localhost:8080/"
        },
        "id": "gxNvY2EdLqdR",
        "outputId": "0f0311c1-cb2c-47e4-8288-6dc690a0cc82"
      },
      "execution_count": 344,
      "outputs": [
        {
          "output_type": "execute_result",
          "data": {
            "text/plain": [
              "Index(['time', 'temperature_2m (°C)', 'relativehumidity_2m (%)',\n",
              "       'dewpoint_2m (°C)', 'pressure_msl (hPa)', 'surface_pressure (hPa)',\n",
              "       'rain (mm)', 'snowfall (cm)', 'cloudcover_low (%)',\n",
              "       'cloudcover_mid (%)', 'shortwave_radiation (W/m²)',\n",
              "       'direct_radiation (W/m²)', 'windspeed_100m (km/h)',\n",
              "       'vapor_pressure_deficit (kPa)', 'soil_temperature_0_to_7cm (°C)',\n",
              "       'soil_moisture_0_to_7cm (m³/m³)'],\n",
              "      dtype='object')"
            ]
          },
          "metadata": {},
          "execution_count": 344
        }
      ]
    },
    {
      "cell_type": "code",
      "source": [
        "# making copy of our dataset on which i am going to work \n",
        "wdata = data.copy()"
      ],
      "metadata": {
        "id": "7pxzbT5fLv2D"
      },
      "execution_count": 345,
      "outputs": []
    },
    {
      "cell_type": "code",
      "source": [
        "# renaming our columns name for more understanding\n",
        "wdata.rename(columns = {'temperature_2m (°C)':'temperature', 'relativehumidity_2m (%)':'relative humidity',\n",
        "                              'dewpoint_2m (°C)':'dewpoint' , 'pressure_msl (hPa)' : 'pressure',\n",
        "                       'surface_pressure (hPa)'  : 'surface pressure' , 'rain (mm)' : 'rain', 'snowfall (cm)' : 'snowfall',\n",
        "                        'cloudcover_low (%)' : 'cloudcover low', 'cloudcover_mid (%)' :'cloudcover mid',\n",
        "                        'shortwave_radiation (W/m²)' : 'shortwave radiation',\n",
        "                        'direct_radiation (W/m²)' : 'direct radiation', 'diffuse_radiation (W/m²)' : 'diffuse radiation',\n",
        "                        'windspeed_100m (km/h)' : 'windspeed', \n",
        "                        'vapor_pressure_deficit (kPa)' : 'vapor pressure deficit' ,\n",
        "                        'soil_temperature_0_to_7cm (°C)' : 'soil temperature',\n",
        "                        'soil_moisture_0_to_7cm (m³/m³)' : 'soil moisture'}\n",
        "             , inplace = True)"
      ],
      "metadata": {
        "id": "MPJfI5RQMbTt"
      },
      "execution_count": 346,
      "outputs": []
    },
    {
      "cell_type": "code",
      "source": [
        "wdata.head()"
      ],
      "metadata": {
        "colab": {
          "base_uri": "https://localhost:8080/",
          "height": 250
        },
        "id": "kboKOZzePwmD",
        "outputId": "7f932383-6a9b-4d67-b682-7f0e2a4f06a0"
      },
      "execution_count": 347,
      "outputs": [
        {
          "output_type": "execute_result",
          "data": {
            "text/plain": [
              "               time  temperature  relative humidity  dewpoint  pressure  \\\n",
              "0  2020-01-01T00:00         18.8                 94      17.8    1016.1   \n",
              "1  2020-01-01T01:00         18.8                 94      17.7    1015.7   \n",
              "2  2020-01-01T02:00         18.6                 95      17.7    1015.2   \n",
              "3  2020-01-01T03:00         18.4                 95      17.6    1014.9   \n",
              "4  2020-01-01T04:00         18.2                 95      17.4    1015.2   \n",
              "\n",
              "   surface pressure  rain  snowfall  cloudcover low  cloudcover mid  \\\n",
              "0             921.4   0.0         0              94               4   \n",
              "1             920.8   0.0         0              99               8   \n",
              "2             920.3   0.0         0              99               9   \n",
              "3             920.0   0.0         0              96              17   \n",
              "4             920.2   0.0         0              98              13   \n",
              "\n",
              "   shortwave radiation  direct radiation  windspeed  vapor pressure deficit  \\\n",
              "0                    0                 0       22.9                    0.14   \n",
              "1                    0                 0       21.7                    0.14   \n",
              "2                    0                 0       20.3                    0.12   \n",
              "3                    0                 0       21.1                    0.11   \n",
              "4                    0                 0       20.3                    0.10   \n",
              "\n",
              "   soil temperature  soil moisture  \n",
              "0              20.9          0.314  \n",
              "1              20.8          0.314  \n",
              "2              20.7          0.314  \n",
              "3              20.6          0.314  \n",
              "4              20.5          0.314  "
            ],
            "text/html": [
              "\n",
              "  <div id=\"df-612ba783-74fd-4803-b1e7-4e58807bcef3\">\n",
              "    <div class=\"colab-df-container\">\n",
              "      <div>\n",
              "<style scoped>\n",
              "    .dataframe tbody tr th:only-of-type {\n",
              "        vertical-align: middle;\n",
              "    }\n",
              "\n",
              "    .dataframe tbody tr th {\n",
              "        vertical-align: top;\n",
              "    }\n",
              "\n",
              "    .dataframe thead th {\n",
              "        text-align: right;\n",
              "    }\n",
              "</style>\n",
              "<table border=\"1\" class=\"dataframe\">\n",
              "  <thead>\n",
              "    <tr style=\"text-align: right;\">\n",
              "      <th></th>\n",
              "      <th>time</th>\n",
              "      <th>temperature</th>\n",
              "      <th>relative humidity</th>\n",
              "      <th>dewpoint</th>\n",
              "      <th>pressure</th>\n",
              "      <th>surface pressure</th>\n",
              "      <th>rain</th>\n",
              "      <th>snowfall</th>\n",
              "      <th>cloudcover low</th>\n",
              "      <th>cloudcover mid</th>\n",
              "      <th>shortwave radiation</th>\n",
              "      <th>direct radiation</th>\n",
              "      <th>windspeed</th>\n",
              "      <th>vapor pressure deficit</th>\n",
              "      <th>soil temperature</th>\n",
              "      <th>soil moisture</th>\n",
              "    </tr>\n",
              "  </thead>\n",
              "  <tbody>\n",
              "    <tr>\n",
              "      <th>0</th>\n",
              "      <td>2020-01-01T00:00</td>\n",
              "      <td>18.8</td>\n",
              "      <td>94</td>\n",
              "      <td>17.8</td>\n",
              "      <td>1016.1</td>\n",
              "      <td>921.4</td>\n",
              "      <td>0.0</td>\n",
              "      <td>0</td>\n",
              "      <td>94</td>\n",
              "      <td>4</td>\n",
              "      <td>0</td>\n",
              "      <td>0</td>\n",
              "      <td>22.9</td>\n",
              "      <td>0.14</td>\n",
              "      <td>20.9</td>\n",
              "      <td>0.314</td>\n",
              "    </tr>\n",
              "    <tr>\n",
              "      <th>1</th>\n",
              "      <td>2020-01-01T01:00</td>\n",
              "      <td>18.8</td>\n",
              "      <td>94</td>\n",
              "      <td>17.7</td>\n",
              "      <td>1015.7</td>\n",
              "      <td>920.8</td>\n",
              "      <td>0.0</td>\n",
              "      <td>0</td>\n",
              "      <td>99</td>\n",
              "      <td>8</td>\n",
              "      <td>0</td>\n",
              "      <td>0</td>\n",
              "      <td>21.7</td>\n",
              "      <td>0.14</td>\n",
              "      <td>20.8</td>\n",
              "      <td>0.314</td>\n",
              "    </tr>\n",
              "    <tr>\n",
              "      <th>2</th>\n",
              "      <td>2020-01-01T02:00</td>\n",
              "      <td>18.6</td>\n",
              "      <td>95</td>\n",
              "      <td>17.7</td>\n",
              "      <td>1015.2</td>\n",
              "      <td>920.3</td>\n",
              "      <td>0.0</td>\n",
              "      <td>0</td>\n",
              "      <td>99</td>\n",
              "      <td>9</td>\n",
              "      <td>0</td>\n",
              "      <td>0</td>\n",
              "      <td>20.3</td>\n",
              "      <td>0.12</td>\n",
              "      <td>20.7</td>\n",
              "      <td>0.314</td>\n",
              "    </tr>\n",
              "    <tr>\n",
              "      <th>3</th>\n",
              "      <td>2020-01-01T03:00</td>\n",
              "      <td>18.4</td>\n",
              "      <td>95</td>\n",
              "      <td>17.6</td>\n",
              "      <td>1014.9</td>\n",
              "      <td>920.0</td>\n",
              "      <td>0.0</td>\n",
              "      <td>0</td>\n",
              "      <td>96</td>\n",
              "      <td>17</td>\n",
              "      <td>0</td>\n",
              "      <td>0</td>\n",
              "      <td>21.1</td>\n",
              "      <td>0.11</td>\n",
              "      <td>20.6</td>\n",
              "      <td>0.314</td>\n",
              "    </tr>\n",
              "    <tr>\n",
              "      <th>4</th>\n",
              "      <td>2020-01-01T04:00</td>\n",
              "      <td>18.2</td>\n",
              "      <td>95</td>\n",
              "      <td>17.4</td>\n",
              "      <td>1015.2</td>\n",
              "      <td>920.2</td>\n",
              "      <td>0.0</td>\n",
              "      <td>0</td>\n",
              "      <td>98</td>\n",
              "      <td>13</td>\n",
              "      <td>0</td>\n",
              "      <td>0</td>\n",
              "      <td>20.3</td>\n",
              "      <td>0.10</td>\n",
              "      <td>20.5</td>\n",
              "      <td>0.314</td>\n",
              "    </tr>\n",
              "  </tbody>\n",
              "</table>\n",
              "</div>\n",
              "      <button class=\"colab-df-convert\" onclick=\"convertToInteractive('df-612ba783-74fd-4803-b1e7-4e58807bcef3')\"\n",
              "              title=\"Convert this dataframe to an interactive table.\"\n",
              "              style=\"display:none;\">\n",
              "        \n",
              "  <svg xmlns=\"http://www.w3.org/2000/svg\" height=\"24px\"viewBox=\"0 0 24 24\"\n",
              "       width=\"24px\">\n",
              "    <path d=\"M0 0h24v24H0V0z\" fill=\"none\"/>\n",
              "    <path d=\"M18.56 5.44l.94 2.06.94-2.06 2.06-.94-2.06-.94-.94-2.06-.94 2.06-2.06.94zm-11 1L8.5 8.5l.94-2.06 2.06-.94-2.06-.94L8.5 2.5l-.94 2.06-2.06.94zm10 10l.94 2.06.94-2.06 2.06-.94-2.06-.94-.94-2.06-.94 2.06-2.06.94z\"/><path d=\"M17.41 7.96l-1.37-1.37c-.4-.4-.92-.59-1.43-.59-.52 0-1.04.2-1.43.59L10.3 9.45l-7.72 7.72c-.78.78-.78 2.05 0 2.83L4 21.41c.39.39.9.59 1.41.59.51 0 1.02-.2 1.41-.59l7.78-7.78 2.81-2.81c.8-.78.8-2.07 0-2.86zM5.41 20L4 18.59l7.72-7.72 1.47 1.35L5.41 20z\"/>\n",
              "  </svg>\n",
              "      </button>\n",
              "      \n",
              "  <style>\n",
              "    .colab-df-container {\n",
              "      display:flex;\n",
              "      flex-wrap:wrap;\n",
              "      gap: 12px;\n",
              "    }\n",
              "\n",
              "    .colab-df-convert {\n",
              "      background-color: #E8F0FE;\n",
              "      border: none;\n",
              "      border-radius: 50%;\n",
              "      cursor: pointer;\n",
              "      display: none;\n",
              "      fill: #1967D2;\n",
              "      height: 32px;\n",
              "      padding: 0 0 0 0;\n",
              "      width: 32px;\n",
              "    }\n",
              "\n",
              "    .colab-df-convert:hover {\n",
              "      background-color: #E2EBFA;\n",
              "      box-shadow: 0px 1px 2px rgba(60, 64, 67, 0.3), 0px 1px 3px 1px rgba(60, 64, 67, 0.15);\n",
              "      fill: #174EA6;\n",
              "    }\n",
              "\n",
              "    [theme=dark] .colab-df-convert {\n",
              "      background-color: #3B4455;\n",
              "      fill: #D2E3FC;\n",
              "    }\n",
              "\n",
              "    [theme=dark] .colab-df-convert:hover {\n",
              "      background-color: #434B5C;\n",
              "      box-shadow: 0px 1px 3px 1px rgba(0, 0, 0, 0.15);\n",
              "      filter: drop-shadow(0px 1px 2px rgba(0, 0, 0, 0.3));\n",
              "      fill: #FFFFFF;\n",
              "    }\n",
              "  </style>\n",
              "\n",
              "      <script>\n",
              "        const buttonEl =\n",
              "          document.querySelector('#df-612ba783-74fd-4803-b1e7-4e58807bcef3 button.colab-df-convert');\n",
              "        buttonEl.style.display =\n",
              "          google.colab.kernel.accessAllowed ? 'block' : 'none';\n",
              "\n",
              "        async function convertToInteractive(key) {\n",
              "          const element = document.querySelector('#df-612ba783-74fd-4803-b1e7-4e58807bcef3');\n",
              "          const dataTable =\n",
              "            await google.colab.kernel.invokeFunction('convertToInteractive',\n",
              "                                                     [key], {});\n",
              "          if (!dataTable) return;\n",
              "\n",
              "          const docLinkHtml = 'Like what you see? Visit the ' +\n",
              "            '<a target=\"_blank\" href=https://colab.research.google.com/notebooks/data_table.ipynb>data table notebook</a>'\n",
              "            + ' to learn more about interactive tables.';\n",
              "          element.innerHTML = '';\n",
              "          dataTable['output_type'] = 'display_data';\n",
              "          await google.colab.output.renderOutput(dataTable, element);\n",
              "          const docLink = document.createElement('div');\n",
              "          docLink.innerHTML = docLinkHtml;\n",
              "          element.appendChild(docLink);\n",
              "        }\n",
              "      </script>\n",
              "    </div>\n",
              "  </div>\n",
              "  "
            ]
          },
          "metadata": {},
          "execution_count": 347
        }
      ]
    },
    {
      "cell_type": "code",
      "source": [
        "wdata.columns\n"
      ],
      "metadata": {
        "colab": {
          "base_uri": "https://localhost:8080/"
        },
        "id": "08z3fWD9QDLc",
        "outputId": "18cedc44-ac48-4a07-b7d0-1c059399b4fd"
      },
      "execution_count": 348,
      "outputs": [
        {
          "output_type": "execute_result",
          "data": {
            "text/plain": [
              "Index(['time', 'temperature', 'relative humidity', 'dewpoint', 'pressure',\n",
              "       'surface pressure', 'rain', 'snowfall', 'cloudcover low',\n",
              "       'cloudcover mid', 'shortwave radiation', 'direct radiation',\n",
              "       'windspeed', 'vapor pressure deficit', 'soil temperature',\n",
              "       'soil moisture'],\n",
              "      dtype='object')"
            ]
          },
          "metadata": {},
          "execution_count": 348
        }
      ]
    },
    {
      "cell_type": "code",
      "source": [
        "# checking basic info of our dataset\n",
        "\n",
        "wdata.info()"
      ],
      "metadata": {
        "colab": {
          "base_uri": "https://localhost:8080/"
        },
        "id": "zOnQUEygaYVH",
        "outputId": "10fd0830-22a6-4829-fc96-0d6c8a2c5ee3"
      },
      "execution_count": 349,
      "outputs": [
        {
          "output_type": "stream",
          "name": "stdout",
          "text": [
            "<class 'pandas.core.frame.DataFrame'>\n",
            "RangeIndex: 26304 entries, 0 to 26303\n",
            "Data columns (total 16 columns):\n",
            " #   Column                  Non-Null Count  Dtype  \n",
            "---  ------                  --------------  -----  \n",
            " 0   time                    26304 non-null  object \n",
            " 1   temperature             26304 non-null  float64\n",
            " 2   relative humidity       26304 non-null  int64  \n",
            " 3   dewpoint                26304 non-null  float64\n",
            " 4   pressure                26304 non-null  float64\n",
            " 5   surface pressure        26304 non-null  float64\n",
            " 6   rain                    26304 non-null  float64\n",
            " 7   snowfall                26304 non-null  int64  \n",
            " 8   cloudcover low          26304 non-null  int64  \n",
            " 9   cloudcover mid          26304 non-null  int64  \n",
            " 10  shortwave radiation     26304 non-null  int64  \n",
            " 11  direct radiation        26304 non-null  int64  \n",
            " 12  windspeed               26304 non-null  float64\n",
            " 13  vapor pressure deficit  26304 non-null  float64\n",
            " 14  soil temperature        26304 non-null  float64\n",
            " 15  soil moisture           26304 non-null  float64\n",
            "dtypes: float64(9), int64(6), object(1)\n",
            "memory usage: 3.2+ MB\n"
          ]
        }
      ]
    },
    {
      "cell_type": "markdown",
      "source": [
        "## **Data Preprocessing**   "
      ],
      "metadata": {
        "id": "LbznMPW-g3gg"
      }
    },
    {
      "cell_type": "markdown",
      "source": [
        "first we need to convert time varibale from object datastype to datetime type to work with it"
      ],
      "metadata": {
        "id": "nJQm6_zeadkl"
      }
    },
    {
      "cell_type": "code",
      "source": [
        "wdata['time'] = pd.to_datetime(wdata['time'])\n"
      ],
      "metadata": {
        "id": "__4o2hTJXFrc"
      },
      "execution_count": 350,
      "outputs": []
    },
    {
      "cell_type": "markdown",
      "source": [
        "now extracting date from our time feature column"
      ],
      "metadata": {
        "id": "J834_aMKaqGL"
      }
    },
    {
      "cell_type": "code",
      "source": [
        "wdata['Date'] = wdata['time'].dt.date"
      ],
      "metadata": {
        "id": "i5SH2FTdQZU3"
      },
      "execution_count": 351,
      "outputs": []
    },
    {
      "cell_type": "code",
      "source": [
        "wdata.set_index('Date',inplace = True)"
      ],
      "metadata": {
        "id": "QolAtYhyXSX1"
      },
      "execution_count": 352,
      "outputs": []
    },
    {
      "cell_type": "code",
      "source": [
        "wdata.head()"
      ],
      "metadata": {
        "colab": {
          "base_uri": "https://localhost:8080/",
          "height": 386
        },
        "id": "A3iHww1kTayp",
        "outputId": "8a3f96d5-dc90-4c49-cd81-456d82ea3536"
      },
      "execution_count": 353,
      "outputs": [
        {
          "output_type": "execute_result",
          "data": {
            "text/plain": [
              "                          time  temperature  relative humidity  dewpoint  \\\n",
              "Date                                                                       \n",
              "2020-01-01 2020-01-01 00:00:00         18.8                 94      17.8   \n",
              "2020-01-01 2020-01-01 01:00:00         18.8                 94      17.7   \n",
              "2020-01-01 2020-01-01 02:00:00         18.6                 95      17.7   \n",
              "2020-01-01 2020-01-01 03:00:00         18.4                 95      17.6   \n",
              "2020-01-01 2020-01-01 04:00:00         18.2                 95      17.4   \n",
              "\n",
              "            pressure  surface pressure  rain  snowfall  cloudcover low  \\\n",
              "Date                                                                     \n",
              "2020-01-01    1016.1             921.4   0.0         0              94   \n",
              "2020-01-01    1015.7             920.8   0.0         0              99   \n",
              "2020-01-01    1015.2             920.3   0.0         0              99   \n",
              "2020-01-01    1014.9             920.0   0.0         0              96   \n",
              "2020-01-01    1015.2             920.2   0.0         0              98   \n",
              "\n",
              "            cloudcover mid  shortwave radiation  direct radiation  windspeed  \\\n",
              "Date                                                                           \n",
              "2020-01-01               4                    0                 0       22.9   \n",
              "2020-01-01               8                    0                 0       21.7   \n",
              "2020-01-01               9                    0                 0       20.3   \n",
              "2020-01-01              17                    0                 0       21.1   \n",
              "2020-01-01              13                    0                 0       20.3   \n",
              "\n",
              "            vapor pressure deficit  soil temperature  soil moisture  \n",
              "Date                                                                 \n",
              "2020-01-01                    0.14              20.9          0.314  \n",
              "2020-01-01                    0.14              20.8          0.314  \n",
              "2020-01-01                    0.12              20.7          0.314  \n",
              "2020-01-01                    0.11              20.6          0.314  \n",
              "2020-01-01                    0.10              20.5          0.314  "
            ],
            "text/html": [
              "\n",
              "  <div id=\"df-9034cdcf-1c6a-4b2a-8178-d5147729e62a\">\n",
              "    <div class=\"colab-df-container\">\n",
              "      <div>\n",
              "<style scoped>\n",
              "    .dataframe tbody tr th:only-of-type {\n",
              "        vertical-align: middle;\n",
              "    }\n",
              "\n",
              "    .dataframe tbody tr th {\n",
              "        vertical-align: top;\n",
              "    }\n",
              "\n",
              "    .dataframe thead th {\n",
              "        text-align: right;\n",
              "    }\n",
              "</style>\n",
              "<table border=\"1\" class=\"dataframe\">\n",
              "  <thead>\n",
              "    <tr style=\"text-align: right;\">\n",
              "      <th></th>\n",
              "      <th>time</th>\n",
              "      <th>temperature</th>\n",
              "      <th>relative humidity</th>\n",
              "      <th>dewpoint</th>\n",
              "      <th>pressure</th>\n",
              "      <th>surface pressure</th>\n",
              "      <th>rain</th>\n",
              "      <th>snowfall</th>\n",
              "      <th>cloudcover low</th>\n",
              "      <th>cloudcover mid</th>\n",
              "      <th>shortwave radiation</th>\n",
              "      <th>direct radiation</th>\n",
              "      <th>windspeed</th>\n",
              "      <th>vapor pressure deficit</th>\n",
              "      <th>soil temperature</th>\n",
              "      <th>soil moisture</th>\n",
              "    </tr>\n",
              "    <tr>\n",
              "      <th>Date</th>\n",
              "      <th></th>\n",
              "      <th></th>\n",
              "      <th></th>\n",
              "      <th></th>\n",
              "      <th></th>\n",
              "      <th></th>\n",
              "      <th></th>\n",
              "      <th></th>\n",
              "      <th></th>\n",
              "      <th></th>\n",
              "      <th></th>\n",
              "      <th></th>\n",
              "      <th></th>\n",
              "      <th></th>\n",
              "      <th></th>\n",
              "      <th></th>\n",
              "    </tr>\n",
              "  </thead>\n",
              "  <tbody>\n",
              "    <tr>\n",
              "      <th>2020-01-01</th>\n",
              "      <td>2020-01-01 00:00:00</td>\n",
              "      <td>18.8</td>\n",
              "      <td>94</td>\n",
              "      <td>17.8</td>\n",
              "      <td>1016.1</td>\n",
              "      <td>921.4</td>\n",
              "      <td>0.0</td>\n",
              "      <td>0</td>\n",
              "      <td>94</td>\n",
              "      <td>4</td>\n",
              "      <td>0</td>\n",
              "      <td>0</td>\n",
              "      <td>22.9</td>\n",
              "      <td>0.14</td>\n",
              "      <td>20.9</td>\n",
              "      <td>0.314</td>\n",
              "    </tr>\n",
              "    <tr>\n",
              "      <th>2020-01-01</th>\n",
              "      <td>2020-01-01 01:00:00</td>\n",
              "      <td>18.8</td>\n",
              "      <td>94</td>\n",
              "      <td>17.7</td>\n",
              "      <td>1015.7</td>\n",
              "      <td>920.8</td>\n",
              "      <td>0.0</td>\n",
              "      <td>0</td>\n",
              "      <td>99</td>\n",
              "      <td>8</td>\n",
              "      <td>0</td>\n",
              "      <td>0</td>\n",
              "      <td>21.7</td>\n",
              "      <td>0.14</td>\n",
              "      <td>20.8</td>\n",
              "      <td>0.314</td>\n",
              "    </tr>\n",
              "    <tr>\n",
              "      <th>2020-01-01</th>\n",
              "      <td>2020-01-01 02:00:00</td>\n",
              "      <td>18.6</td>\n",
              "      <td>95</td>\n",
              "      <td>17.7</td>\n",
              "      <td>1015.2</td>\n",
              "      <td>920.3</td>\n",
              "      <td>0.0</td>\n",
              "      <td>0</td>\n",
              "      <td>99</td>\n",
              "      <td>9</td>\n",
              "      <td>0</td>\n",
              "      <td>0</td>\n",
              "      <td>20.3</td>\n",
              "      <td>0.12</td>\n",
              "      <td>20.7</td>\n",
              "      <td>0.314</td>\n",
              "    </tr>\n",
              "    <tr>\n",
              "      <th>2020-01-01</th>\n",
              "      <td>2020-01-01 03:00:00</td>\n",
              "      <td>18.4</td>\n",
              "      <td>95</td>\n",
              "      <td>17.6</td>\n",
              "      <td>1014.9</td>\n",
              "      <td>920.0</td>\n",
              "      <td>0.0</td>\n",
              "      <td>0</td>\n",
              "      <td>96</td>\n",
              "      <td>17</td>\n",
              "      <td>0</td>\n",
              "      <td>0</td>\n",
              "      <td>21.1</td>\n",
              "      <td>0.11</td>\n",
              "      <td>20.6</td>\n",
              "      <td>0.314</td>\n",
              "    </tr>\n",
              "    <tr>\n",
              "      <th>2020-01-01</th>\n",
              "      <td>2020-01-01 04:00:00</td>\n",
              "      <td>18.2</td>\n",
              "      <td>95</td>\n",
              "      <td>17.4</td>\n",
              "      <td>1015.2</td>\n",
              "      <td>920.2</td>\n",
              "      <td>0.0</td>\n",
              "      <td>0</td>\n",
              "      <td>98</td>\n",
              "      <td>13</td>\n",
              "      <td>0</td>\n",
              "      <td>0</td>\n",
              "      <td>20.3</td>\n",
              "      <td>0.10</td>\n",
              "      <td>20.5</td>\n",
              "      <td>0.314</td>\n",
              "    </tr>\n",
              "  </tbody>\n",
              "</table>\n",
              "</div>\n",
              "      <button class=\"colab-df-convert\" onclick=\"convertToInteractive('df-9034cdcf-1c6a-4b2a-8178-d5147729e62a')\"\n",
              "              title=\"Convert this dataframe to an interactive table.\"\n",
              "              style=\"display:none;\">\n",
              "        \n",
              "  <svg xmlns=\"http://www.w3.org/2000/svg\" height=\"24px\"viewBox=\"0 0 24 24\"\n",
              "       width=\"24px\">\n",
              "    <path d=\"M0 0h24v24H0V0z\" fill=\"none\"/>\n",
              "    <path d=\"M18.56 5.44l.94 2.06.94-2.06 2.06-.94-2.06-.94-.94-2.06-.94 2.06-2.06.94zm-11 1L8.5 8.5l.94-2.06 2.06-.94-2.06-.94L8.5 2.5l-.94 2.06-2.06.94zm10 10l.94 2.06.94-2.06 2.06-.94-2.06-.94-.94-2.06-.94 2.06-2.06.94z\"/><path d=\"M17.41 7.96l-1.37-1.37c-.4-.4-.92-.59-1.43-.59-.52 0-1.04.2-1.43.59L10.3 9.45l-7.72 7.72c-.78.78-.78 2.05 0 2.83L4 21.41c.39.39.9.59 1.41.59.51 0 1.02-.2 1.41-.59l7.78-7.78 2.81-2.81c.8-.78.8-2.07 0-2.86zM5.41 20L4 18.59l7.72-7.72 1.47 1.35L5.41 20z\"/>\n",
              "  </svg>\n",
              "      </button>\n",
              "      \n",
              "  <style>\n",
              "    .colab-df-container {\n",
              "      display:flex;\n",
              "      flex-wrap:wrap;\n",
              "      gap: 12px;\n",
              "    }\n",
              "\n",
              "    .colab-df-convert {\n",
              "      background-color: #E8F0FE;\n",
              "      border: none;\n",
              "      border-radius: 50%;\n",
              "      cursor: pointer;\n",
              "      display: none;\n",
              "      fill: #1967D2;\n",
              "      height: 32px;\n",
              "      padding: 0 0 0 0;\n",
              "      width: 32px;\n",
              "    }\n",
              "\n",
              "    .colab-df-convert:hover {\n",
              "      background-color: #E2EBFA;\n",
              "      box-shadow: 0px 1px 2px rgba(60, 64, 67, 0.3), 0px 1px 3px 1px rgba(60, 64, 67, 0.15);\n",
              "      fill: #174EA6;\n",
              "    }\n",
              "\n",
              "    [theme=dark] .colab-df-convert {\n",
              "      background-color: #3B4455;\n",
              "      fill: #D2E3FC;\n",
              "    }\n",
              "\n",
              "    [theme=dark] .colab-df-convert:hover {\n",
              "      background-color: #434B5C;\n",
              "      box-shadow: 0px 1px 3px 1px rgba(0, 0, 0, 0.15);\n",
              "      filter: drop-shadow(0px 1px 2px rgba(0, 0, 0, 0.3));\n",
              "      fill: #FFFFFF;\n",
              "    }\n",
              "  </style>\n",
              "\n",
              "      <script>\n",
              "        const buttonEl =\n",
              "          document.querySelector('#df-9034cdcf-1c6a-4b2a-8178-d5147729e62a button.colab-df-convert');\n",
              "        buttonEl.style.display =\n",
              "          google.colab.kernel.accessAllowed ? 'block' : 'none';\n",
              "\n",
              "        async function convertToInteractive(key) {\n",
              "          const element = document.querySelector('#df-9034cdcf-1c6a-4b2a-8178-d5147729e62a');\n",
              "          const dataTable =\n",
              "            await google.colab.kernel.invokeFunction('convertToInteractive',\n",
              "                                                     [key], {});\n",
              "          if (!dataTable) return;\n",
              "\n",
              "          const docLinkHtml = 'Like what you see? Visit the ' +\n",
              "            '<a target=\"_blank\" href=https://colab.research.google.com/notebooks/data_table.ipynb>data table notebook</a>'\n",
              "            + ' to learn more about interactive tables.';\n",
              "          element.innerHTML = '';\n",
              "          dataTable['output_type'] = 'display_data';\n",
              "          await google.colab.output.renderOutput(dataTable, element);\n",
              "          const docLink = document.createElement('div');\n",
              "          docLink.innerHTML = docLinkHtml;\n",
              "          element.appendChild(docLink);\n",
              "        }\n",
              "      </script>\n",
              "    </div>\n",
              "  </div>\n",
              "  "
            ]
          },
          "metadata": {},
          "execution_count": 353
        }
      ]
    },
    {
      "cell_type": "code",
      "source": [
        "# now we have extracted date from time feature, so we can drop it.\n",
        "# in a city like bengaluru it's like unexplainable natural pheonemena if snowfall happens , so we can drop snowfal also\n",
        "\n",
        "wdata.drop('time', axis = 1 , inplace = True)\n",
        "wdata.drop('snowfall' , axis = 1 , inplace = True)"
      ],
      "metadata": {
        "id": "P4Mc9BKZX3pI"
      },
      "execution_count": 354,
      "outputs": []
    },
    {
      "cell_type": "code",
      "source": [
        "wdata.head()"
      ],
      "metadata": {
        "colab": {
          "base_uri": "https://localhost:8080/",
          "height": 238
        },
        "id": "YUQ_ytVOX-VR",
        "outputId": "c7bda1bf-62b3-4d56-cc3c-3e42ce9b8fef"
      },
      "execution_count": 355,
      "outputs": [
        {
          "output_type": "execute_result",
          "data": {
            "text/plain": [
              "            temperature  relative humidity  dewpoint  pressure  \\\n",
              "Date                                                             \n",
              "2020-01-01         18.8                 94      17.8    1016.1   \n",
              "2020-01-01         18.8                 94      17.7    1015.7   \n",
              "2020-01-01         18.6                 95      17.7    1015.2   \n",
              "2020-01-01         18.4                 95      17.6    1014.9   \n",
              "2020-01-01         18.2                 95      17.4    1015.2   \n",
              "\n",
              "            surface pressure  rain  cloudcover low  cloudcover mid  \\\n",
              "Date                                                                 \n",
              "2020-01-01             921.4   0.0              94               4   \n",
              "2020-01-01             920.8   0.0              99               8   \n",
              "2020-01-01             920.3   0.0              99               9   \n",
              "2020-01-01             920.0   0.0              96              17   \n",
              "2020-01-01             920.2   0.0              98              13   \n",
              "\n",
              "            shortwave radiation  direct radiation  windspeed  \\\n",
              "Date                                                           \n",
              "2020-01-01                    0                 0       22.9   \n",
              "2020-01-01                    0                 0       21.7   \n",
              "2020-01-01                    0                 0       20.3   \n",
              "2020-01-01                    0                 0       21.1   \n",
              "2020-01-01                    0                 0       20.3   \n",
              "\n",
              "            vapor pressure deficit  soil temperature  soil moisture  \n",
              "Date                                                                 \n",
              "2020-01-01                    0.14              20.9          0.314  \n",
              "2020-01-01                    0.14              20.8          0.314  \n",
              "2020-01-01                    0.12              20.7          0.314  \n",
              "2020-01-01                    0.11              20.6          0.314  \n",
              "2020-01-01                    0.10              20.5          0.314  "
            ],
            "text/html": [
              "\n",
              "  <div id=\"df-9a785596-957b-4ed9-a96d-2e45b276172f\">\n",
              "    <div class=\"colab-df-container\">\n",
              "      <div>\n",
              "<style scoped>\n",
              "    .dataframe tbody tr th:only-of-type {\n",
              "        vertical-align: middle;\n",
              "    }\n",
              "\n",
              "    .dataframe tbody tr th {\n",
              "        vertical-align: top;\n",
              "    }\n",
              "\n",
              "    .dataframe thead th {\n",
              "        text-align: right;\n",
              "    }\n",
              "</style>\n",
              "<table border=\"1\" class=\"dataframe\">\n",
              "  <thead>\n",
              "    <tr style=\"text-align: right;\">\n",
              "      <th></th>\n",
              "      <th>temperature</th>\n",
              "      <th>relative humidity</th>\n",
              "      <th>dewpoint</th>\n",
              "      <th>pressure</th>\n",
              "      <th>surface pressure</th>\n",
              "      <th>rain</th>\n",
              "      <th>cloudcover low</th>\n",
              "      <th>cloudcover mid</th>\n",
              "      <th>shortwave radiation</th>\n",
              "      <th>direct radiation</th>\n",
              "      <th>windspeed</th>\n",
              "      <th>vapor pressure deficit</th>\n",
              "      <th>soil temperature</th>\n",
              "      <th>soil moisture</th>\n",
              "    </tr>\n",
              "    <tr>\n",
              "      <th>Date</th>\n",
              "      <th></th>\n",
              "      <th></th>\n",
              "      <th></th>\n",
              "      <th></th>\n",
              "      <th></th>\n",
              "      <th></th>\n",
              "      <th></th>\n",
              "      <th></th>\n",
              "      <th></th>\n",
              "      <th></th>\n",
              "      <th></th>\n",
              "      <th></th>\n",
              "      <th></th>\n",
              "      <th></th>\n",
              "    </tr>\n",
              "  </thead>\n",
              "  <tbody>\n",
              "    <tr>\n",
              "      <th>2020-01-01</th>\n",
              "      <td>18.8</td>\n",
              "      <td>94</td>\n",
              "      <td>17.8</td>\n",
              "      <td>1016.1</td>\n",
              "      <td>921.4</td>\n",
              "      <td>0.0</td>\n",
              "      <td>94</td>\n",
              "      <td>4</td>\n",
              "      <td>0</td>\n",
              "      <td>0</td>\n",
              "      <td>22.9</td>\n",
              "      <td>0.14</td>\n",
              "      <td>20.9</td>\n",
              "      <td>0.314</td>\n",
              "    </tr>\n",
              "    <tr>\n",
              "      <th>2020-01-01</th>\n",
              "      <td>18.8</td>\n",
              "      <td>94</td>\n",
              "      <td>17.7</td>\n",
              "      <td>1015.7</td>\n",
              "      <td>920.8</td>\n",
              "      <td>0.0</td>\n",
              "      <td>99</td>\n",
              "      <td>8</td>\n",
              "      <td>0</td>\n",
              "      <td>0</td>\n",
              "      <td>21.7</td>\n",
              "      <td>0.14</td>\n",
              "      <td>20.8</td>\n",
              "      <td>0.314</td>\n",
              "    </tr>\n",
              "    <tr>\n",
              "      <th>2020-01-01</th>\n",
              "      <td>18.6</td>\n",
              "      <td>95</td>\n",
              "      <td>17.7</td>\n",
              "      <td>1015.2</td>\n",
              "      <td>920.3</td>\n",
              "      <td>0.0</td>\n",
              "      <td>99</td>\n",
              "      <td>9</td>\n",
              "      <td>0</td>\n",
              "      <td>0</td>\n",
              "      <td>20.3</td>\n",
              "      <td>0.12</td>\n",
              "      <td>20.7</td>\n",
              "      <td>0.314</td>\n",
              "    </tr>\n",
              "    <tr>\n",
              "      <th>2020-01-01</th>\n",
              "      <td>18.4</td>\n",
              "      <td>95</td>\n",
              "      <td>17.6</td>\n",
              "      <td>1014.9</td>\n",
              "      <td>920.0</td>\n",
              "      <td>0.0</td>\n",
              "      <td>96</td>\n",
              "      <td>17</td>\n",
              "      <td>0</td>\n",
              "      <td>0</td>\n",
              "      <td>21.1</td>\n",
              "      <td>0.11</td>\n",
              "      <td>20.6</td>\n",
              "      <td>0.314</td>\n",
              "    </tr>\n",
              "    <tr>\n",
              "      <th>2020-01-01</th>\n",
              "      <td>18.2</td>\n",
              "      <td>95</td>\n",
              "      <td>17.4</td>\n",
              "      <td>1015.2</td>\n",
              "      <td>920.2</td>\n",
              "      <td>0.0</td>\n",
              "      <td>98</td>\n",
              "      <td>13</td>\n",
              "      <td>0</td>\n",
              "      <td>0</td>\n",
              "      <td>20.3</td>\n",
              "      <td>0.10</td>\n",
              "      <td>20.5</td>\n",
              "      <td>0.314</td>\n",
              "    </tr>\n",
              "  </tbody>\n",
              "</table>\n",
              "</div>\n",
              "      <button class=\"colab-df-convert\" onclick=\"convertToInteractive('df-9a785596-957b-4ed9-a96d-2e45b276172f')\"\n",
              "              title=\"Convert this dataframe to an interactive table.\"\n",
              "              style=\"display:none;\">\n",
              "        \n",
              "  <svg xmlns=\"http://www.w3.org/2000/svg\" height=\"24px\"viewBox=\"0 0 24 24\"\n",
              "       width=\"24px\">\n",
              "    <path d=\"M0 0h24v24H0V0z\" fill=\"none\"/>\n",
              "    <path d=\"M18.56 5.44l.94 2.06.94-2.06 2.06-.94-2.06-.94-.94-2.06-.94 2.06-2.06.94zm-11 1L8.5 8.5l.94-2.06 2.06-.94-2.06-.94L8.5 2.5l-.94 2.06-2.06.94zm10 10l.94 2.06.94-2.06 2.06-.94-2.06-.94-.94-2.06-.94 2.06-2.06.94z\"/><path d=\"M17.41 7.96l-1.37-1.37c-.4-.4-.92-.59-1.43-.59-.52 0-1.04.2-1.43.59L10.3 9.45l-7.72 7.72c-.78.78-.78 2.05 0 2.83L4 21.41c.39.39.9.59 1.41.59.51 0 1.02-.2 1.41-.59l7.78-7.78 2.81-2.81c.8-.78.8-2.07 0-2.86zM5.41 20L4 18.59l7.72-7.72 1.47 1.35L5.41 20z\"/>\n",
              "  </svg>\n",
              "      </button>\n",
              "      \n",
              "  <style>\n",
              "    .colab-df-container {\n",
              "      display:flex;\n",
              "      flex-wrap:wrap;\n",
              "      gap: 12px;\n",
              "    }\n",
              "\n",
              "    .colab-df-convert {\n",
              "      background-color: #E8F0FE;\n",
              "      border: none;\n",
              "      border-radius: 50%;\n",
              "      cursor: pointer;\n",
              "      display: none;\n",
              "      fill: #1967D2;\n",
              "      height: 32px;\n",
              "      padding: 0 0 0 0;\n",
              "      width: 32px;\n",
              "    }\n",
              "\n",
              "    .colab-df-convert:hover {\n",
              "      background-color: #E2EBFA;\n",
              "      box-shadow: 0px 1px 2px rgba(60, 64, 67, 0.3), 0px 1px 3px 1px rgba(60, 64, 67, 0.15);\n",
              "      fill: #174EA6;\n",
              "    }\n",
              "\n",
              "    [theme=dark] .colab-df-convert {\n",
              "      background-color: #3B4455;\n",
              "      fill: #D2E3FC;\n",
              "    }\n",
              "\n",
              "    [theme=dark] .colab-df-convert:hover {\n",
              "      background-color: #434B5C;\n",
              "      box-shadow: 0px 1px 3px 1px rgba(0, 0, 0, 0.15);\n",
              "      filter: drop-shadow(0px 1px 2px rgba(0, 0, 0, 0.3));\n",
              "      fill: #FFFFFF;\n",
              "    }\n",
              "  </style>\n",
              "\n",
              "      <script>\n",
              "        const buttonEl =\n",
              "          document.querySelector('#df-9a785596-957b-4ed9-a96d-2e45b276172f button.colab-df-convert');\n",
              "        buttonEl.style.display =\n",
              "          google.colab.kernel.accessAllowed ? 'block' : 'none';\n",
              "\n",
              "        async function convertToInteractive(key) {\n",
              "          const element = document.querySelector('#df-9a785596-957b-4ed9-a96d-2e45b276172f');\n",
              "          const dataTable =\n",
              "            await google.colab.kernel.invokeFunction('convertToInteractive',\n",
              "                                                     [key], {});\n",
              "          if (!dataTable) return;\n",
              "\n",
              "          const docLinkHtml = 'Like what you see? Visit the ' +\n",
              "            '<a target=\"_blank\" href=https://colab.research.google.com/notebooks/data_table.ipynb>data table notebook</a>'\n",
              "            + ' to learn more about interactive tables.';\n",
              "          element.innerHTML = '';\n",
              "          dataTable['output_type'] = 'display_data';\n",
              "          await google.colab.output.renderOutput(dataTable, element);\n",
              "          const docLink = document.createElement('div');\n",
              "          docLink.innerHTML = docLinkHtml;\n",
              "          element.appendChild(docLink);\n",
              "        }\n",
              "      </script>\n",
              "    </div>\n",
              "  </div>\n",
              "  "
            ]
          },
          "metadata": {},
          "execution_count": 355
        }
      ]
    },
    {
      "cell_type": "code",
      "source": [
        "# now we want to make prediction whether it will rain in a day or not so, grouping on thebase of date\n",
        "\n",
        "# doing appropriate aggegate operation on my feature column as follows\n",
        "\n",
        "grouped_wdata = wdata.groupby('Date').agg({'temperature': 'mean','relative humidity': 'mean' , 'dewpoint': 'mean' ,\n",
        "                           'pressure': 'mean', 'surface pressure': 'mean' , 'rain': 'sum' , 'cloudcover low': 'mean' ,\n",
        "                           'cloudcover mid': 'mean' , 'shortwave radiation': 'sum', 'direct radiation': 'sum' ,\n",
        "                           'windspeed' : 'mean' , 'vapor pressure deficit' : 'mean' , 'soil temperature' : 'mean',\n",
        "                           'soil moisture' : 'mean'\n",
        "                            })"
      ],
      "metadata": {
        "id": "qn322n3uYnKT"
      },
      "execution_count": 356,
      "outputs": []
    },
    {
      "cell_type": "code",
      "source": [
        "grouped_wdata.head()"
      ],
      "metadata": {
        "colab": {
          "base_uri": "https://localhost:8080/",
          "height": 238
        },
        "id": "rbObnn6cbEfB",
        "outputId": "8405123c-11bc-4f59-d0df-b29725f77a4a"
      },
      "execution_count": 357,
      "outputs": [
        {
          "output_type": "execute_result",
          "data": {
            "text/plain": [
              "            temperature  relative humidity   dewpoint     pressure  \\\n",
              "Date                                                                 \n",
              "2020-01-01    21.245833          80.833333  17.545833  1015.958333   \n",
              "2020-01-02    21.725000          79.750000  17.775000  1016.779167   \n",
              "2020-01-03    22.762500          72.791667  16.970833  1015.279167   \n",
              "2020-01-04    23.108333          68.291667  16.204167  1013.433333   \n",
              "2020-01-05    23.137500          70.583333  16.800000  1013.275000   \n",
              "\n",
              "            surface pressure  rain  cloudcover low  cloudcover mid  \\\n",
              "Date                                                                 \n",
              "2020-01-01        921.795833   1.0       57.666667       13.958333   \n",
              "2020-01-02        922.770833   0.8       53.333333       15.041667   \n",
              "2020-01-03        921.633333   0.0       40.083333        9.500000   \n",
              "2020-01-04        920.012500   0.0       22.166667       17.375000   \n",
              "2020-01-05        919.904167   0.0       23.833333       14.958333   \n",
              "\n",
              "            shortwave radiation  direct radiation  windspeed  \\\n",
              "Date                                                           \n",
              "2020-01-01                 4312              2729  19.041667   \n",
              "2020-01-02                 4083              2473  16.420833   \n",
              "2020-01-03                 5229              3987  12.945833   \n",
              "2020-01-04                 4985              3592  11.741667   \n",
              "2020-01-05                 4877              3546  13.150000   \n",
              "\n",
              "            vapor pressure deficit  soil temperature  soil moisture  \n",
              "Date                                                                 \n",
              "2020-01-01                0.547500         23.120833       0.316833  \n",
              "2020-01-02                0.590000         23.445833       0.322792  \n",
              "2020-01-03                0.884167         24.304167       0.322333  \n",
              "2020-01-04                1.024583         24.554167       0.314333  \n",
              "2020-01-05                0.953750         24.629167       0.307625  "
            ],
            "text/html": [
              "\n",
              "  <div id=\"df-31521db8-b673-4774-a4fb-2dacfe8bb146\">\n",
              "    <div class=\"colab-df-container\">\n",
              "      <div>\n",
              "<style scoped>\n",
              "    .dataframe tbody tr th:only-of-type {\n",
              "        vertical-align: middle;\n",
              "    }\n",
              "\n",
              "    .dataframe tbody tr th {\n",
              "        vertical-align: top;\n",
              "    }\n",
              "\n",
              "    .dataframe thead th {\n",
              "        text-align: right;\n",
              "    }\n",
              "</style>\n",
              "<table border=\"1\" class=\"dataframe\">\n",
              "  <thead>\n",
              "    <tr style=\"text-align: right;\">\n",
              "      <th></th>\n",
              "      <th>temperature</th>\n",
              "      <th>relative humidity</th>\n",
              "      <th>dewpoint</th>\n",
              "      <th>pressure</th>\n",
              "      <th>surface pressure</th>\n",
              "      <th>rain</th>\n",
              "      <th>cloudcover low</th>\n",
              "      <th>cloudcover mid</th>\n",
              "      <th>shortwave radiation</th>\n",
              "      <th>direct radiation</th>\n",
              "      <th>windspeed</th>\n",
              "      <th>vapor pressure deficit</th>\n",
              "      <th>soil temperature</th>\n",
              "      <th>soil moisture</th>\n",
              "    </tr>\n",
              "    <tr>\n",
              "      <th>Date</th>\n",
              "      <th></th>\n",
              "      <th></th>\n",
              "      <th></th>\n",
              "      <th></th>\n",
              "      <th></th>\n",
              "      <th></th>\n",
              "      <th></th>\n",
              "      <th></th>\n",
              "      <th></th>\n",
              "      <th></th>\n",
              "      <th></th>\n",
              "      <th></th>\n",
              "      <th></th>\n",
              "      <th></th>\n",
              "    </tr>\n",
              "  </thead>\n",
              "  <tbody>\n",
              "    <tr>\n",
              "      <th>2020-01-01</th>\n",
              "      <td>21.245833</td>\n",
              "      <td>80.833333</td>\n",
              "      <td>17.545833</td>\n",
              "      <td>1015.958333</td>\n",
              "      <td>921.795833</td>\n",
              "      <td>1.0</td>\n",
              "      <td>57.666667</td>\n",
              "      <td>13.958333</td>\n",
              "      <td>4312</td>\n",
              "      <td>2729</td>\n",
              "      <td>19.041667</td>\n",
              "      <td>0.547500</td>\n",
              "      <td>23.120833</td>\n",
              "      <td>0.316833</td>\n",
              "    </tr>\n",
              "    <tr>\n",
              "      <th>2020-01-02</th>\n",
              "      <td>21.725000</td>\n",
              "      <td>79.750000</td>\n",
              "      <td>17.775000</td>\n",
              "      <td>1016.779167</td>\n",
              "      <td>922.770833</td>\n",
              "      <td>0.8</td>\n",
              "      <td>53.333333</td>\n",
              "      <td>15.041667</td>\n",
              "      <td>4083</td>\n",
              "      <td>2473</td>\n",
              "      <td>16.420833</td>\n",
              "      <td>0.590000</td>\n",
              "      <td>23.445833</td>\n",
              "      <td>0.322792</td>\n",
              "    </tr>\n",
              "    <tr>\n",
              "      <th>2020-01-03</th>\n",
              "      <td>22.762500</td>\n",
              "      <td>72.791667</td>\n",
              "      <td>16.970833</td>\n",
              "      <td>1015.279167</td>\n",
              "      <td>921.633333</td>\n",
              "      <td>0.0</td>\n",
              "      <td>40.083333</td>\n",
              "      <td>9.500000</td>\n",
              "      <td>5229</td>\n",
              "      <td>3987</td>\n",
              "      <td>12.945833</td>\n",
              "      <td>0.884167</td>\n",
              "      <td>24.304167</td>\n",
              "      <td>0.322333</td>\n",
              "    </tr>\n",
              "    <tr>\n",
              "      <th>2020-01-04</th>\n",
              "      <td>23.108333</td>\n",
              "      <td>68.291667</td>\n",
              "      <td>16.204167</td>\n",
              "      <td>1013.433333</td>\n",
              "      <td>920.012500</td>\n",
              "      <td>0.0</td>\n",
              "      <td>22.166667</td>\n",
              "      <td>17.375000</td>\n",
              "      <td>4985</td>\n",
              "      <td>3592</td>\n",
              "      <td>11.741667</td>\n",
              "      <td>1.024583</td>\n",
              "      <td>24.554167</td>\n",
              "      <td>0.314333</td>\n",
              "    </tr>\n",
              "    <tr>\n",
              "      <th>2020-01-05</th>\n",
              "      <td>23.137500</td>\n",
              "      <td>70.583333</td>\n",
              "      <td>16.800000</td>\n",
              "      <td>1013.275000</td>\n",
              "      <td>919.904167</td>\n",
              "      <td>0.0</td>\n",
              "      <td>23.833333</td>\n",
              "      <td>14.958333</td>\n",
              "      <td>4877</td>\n",
              "      <td>3546</td>\n",
              "      <td>13.150000</td>\n",
              "      <td>0.953750</td>\n",
              "      <td>24.629167</td>\n",
              "      <td>0.307625</td>\n",
              "    </tr>\n",
              "  </tbody>\n",
              "</table>\n",
              "</div>\n",
              "      <button class=\"colab-df-convert\" onclick=\"convertToInteractive('df-31521db8-b673-4774-a4fb-2dacfe8bb146')\"\n",
              "              title=\"Convert this dataframe to an interactive table.\"\n",
              "              style=\"display:none;\">\n",
              "        \n",
              "  <svg xmlns=\"http://www.w3.org/2000/svg\" height=\"24px\"viewBox=\"0 0 24 24\"\n",
              "       width=\"24px\">\n",
              "    <path d=\"M0 0h24v24H0V0z\" fill=\"none\"/>\n",
              "    <path d=\"M18.56 5.44l.94 2.06.94-2.06 2.06-.94-2.06-.94-.94-2.06-.94 2.06-2.06.94zm-11 1L8.5 8.5l.94-2.06 2.06-.94-2.06-.94L8.5 2.5l-.94 2.06-2.06.94zm10 10l.94 2.06.94-2.06 2.06-.94-2.06-.94-.94-2.06-.94 2.06-2.06.94z\"/><path d=\"M17.41 7.96l-1.37-1.37c-.4-.4-.92-.59-1.43-.59-.52 0-1.04.2-1.43.59L10.3 9.45l-7.72 7.72c-.78.78-.78 2.05 0 2.83L4 21.41c.39.39.9.59 1.41.59.51 0 1.02-.2 1.41-.59l7.78-7.78 2.81-2.81c.8-.78.8-2.07 0-2.86zM5.41 20L4 18.59l7.72-7.72 1.47 1.35L5.41 20z\"/>\n",
              "  </svg>\n",
              "      </button>\n",
              "      \n",
              "  <style>\n",
              "    .colab-df-container {\n",
              "      display:flex;\n",
              "      flex-wrap:wrap;\n",
              "      gap: 12px;\n",
              "    }\n",
              "\n",
              "    .colab-df-convert {\n",
              "      background-color: #E8F0FE;\n",
              "      border: none;\n",
              "      border-radius: 50%;\n",
              "      cursor: pointer;\n",
              "      display: none;\n",
              "      fill: #1967D2;\n",
              "      height: 32px;\n",
              "      padding: 0 0 0 0;\n",
              "      width: 32px;\n",
              "    }\n",
              "\n",
              "    .colab-df-convert:hover {\n",
              "      background-color: #E2EBFA;\n",
              "      box-shadow: 0px 1px 2px rgba(60, 64, 67, 0.3), 0px 1px 3px 1px rgba(60, 64, 67, 0.15);\n",
              "      fill: #174EA6;\n",
              "    }\n",
              "\n",
              "    [theme=dark] .colab-df-convert {\n",
              "      background-color: #3B4455;\n",
              "      fill: #D2E3FC;\n",
              "    }\n",
              "\n",
              "    [theme=dark] .colab-df-convert:hover {\n",
              "      background-color: #434B5C;\n",
              "      box-shadow: 0px 1px 3px 1px rgba(0, 0, 0, 0.15);\n",
              "      filter: drop-shadow(0px 1px 2px rgba(0, 0, 0, 0.3));\n",
              "      fill: #FFFFFF;\n",
              "    }\n",
              "  </style>\n",
              "\n",
              "      <script>\n",
              "        const buttonEl =\n",
              "          document.querySelector('#df-31521db8-b673-4774-a4fb-2dacfe8bb146 button.colab-df-convert');\n",
              "        buttonEl.style.display =\n",
              "          google.colab.kernel.accessAllowed ? 'block' : 'none';\n",
              "\n",
              "        async function convertToInteractive(key) {\n",
              "          const element = document.querySelector('#df-31521db8-b673-4774-a4fb-2dacfe8bb146');\n",
              "          const dataTable =\n",
              "            await google.colab.kernel.invokeFunction('convertToInteractive',\n",
              "                                                     [key], {});\n",
              "          if (!dataTable) return;\n",
              "\n",
              "          const docLinkHtml = 'Like what you see? Visit the ' +\n",
              "            '<a target=\"_blank\" href=https://colab.research.google.com/notebooks/data_table.ipynb>data table notebook</a>'\n",
              "            + ' to learn more about interactive tables.';\n",
              "          element.innerHTML = '';\n",
              "          dataTable['output_type'] = 'display_data';\n",
              "          await google.colab.output.renderOutput(dataTable, element);\n",
              "          const docLink = document.createElement('div');\n",
              "          docLink.innerHTML = docLinkHtml;\n",
              "          element.appendChild(docLink);\n",
              "        }\n",
              "      </script>\n",
              "    </div>\n",
              "  </div>\n",
              "  "
            ]
          },
          "metadata": {},
          "execution_count": 357
        }
      ]
    },
    {
      "cell_type": "markdown",
      "source": [
        "**Instead of dealing this problem as regression and predicting how much it will rain, i will go to simple case of prediction whether it will rain in a day or not. so i am making new categorical dependent variable of whether it will rain(0) or not(1) , from my numerical column of rainfall**"
      ],
      "metadata": {
        "id": "2OFhEuyjbeQm"
      }
    },
    {
      "cell_type": "code",
      "source": [
        "\n",
        "def rainfall_cat(a):\n",
        "    if a < 0.5:\n",
        "        return 0\n",
        "    else:\n",
        "        return 1"
      ],
      "metadata": {
        "id": "z3MHuWQAIHPC"
      },
      "execution_count": 358,
      "outputs": []
    },
    {
      "cell_type": "code",
      "source": [
        "grouped_wdata['rainy'] = grouped_wdata['rain'].apply(rainfall_cat)"
      ],
      "metadata": {
        "id": "AEsYfZRMIiY7"
      },
      "execution_count": 359,
      "outputs": []
    },
    {
      "cell_type": "code",
      "source": [
        "grouped_wdata['rainy'].value_counts()"
      ],
      "metadata": {
        "colab": {
          "base_uri": "https://localhost:8080/"
        },
        "id": "9iIet24iItJq",
        "outputId": "4636c503-0b5c-42c4-b700-ea1e96b95fb7"
      },
      "execution_count": 360,
      "outputs": [
        {
          "output_type": "execute_result",
          "data": {
            "text/plain": [
              "0    600\n",
              "1    496\n",
              "Name: rainy, dtype: int64"
            ]
          },
          "metadata": {},
          "execution_count": 360
        }
      ]
    },
    {
      "cell_type": "code",
      "source": [
        "# now dropping my rain feature column\n",
        "\n",
        "grouped_wdata.drop('rain', axis = 1, inplace = True)"
      ],
      "metadata": {
        "id": "mW8DPdmoIX0D"
      },
      "execution_count": 361,
      "outputs": []
    },
    {
      "cell_type": "code",
      "source": [
        "grouped_wdata.info()"
      ],
      "metadata": {
        "colab": {
          "base_uri": "https://localhost:8080/"
        },
        "id": "TqzabqDxbZFA",
        "outputId": "9c08cd52-3d61-407f-aedd-85f6079b200d"
      },
      "execution_count": 362,
      "outputs": [
        {
          "output_type": "stream",
          "name": "stdout",
          "text": [
            "<class 'pandas.core.frame.DataFrame'>\n",
            "Index: 1096 entries, 2020-01-01 to 2022-12-31\n",
            "Data columns (total 14 columns):\n",
            " #   Column                  Non-Null Count  Dtype  \n",
            "---  ------                  --------------  -----  \n",
            " 0   temperature             1096 non-null   float64\n",
            " 1   relative humidity       1096 non-null   float64\n",
            " 2   dewpoint                1096 non-null   float64\n",
            " 3   pressure                1096 non-null   float64\n",
            " 4   surface pressure        1096 non-null   float64\n",
            " 5   cloudcover low          1096 non-null   float64\n",
            " 6   cloudcover mid          1096 non-null   float64\n",
            " 7   shortwave radiation     1096 non-null   int64  \n",
            " 8   direct radiation        1096 non-null   int64  \n",
            " 9   windspeed               1096 non-null   float64\n",
            " 10  vapor pressure deficit  1096 non-null   float64\n",
            " 11  soil temperature        1096 non-null   float64\n",
            " 12  soil moisture           1096 non-null   float64\n",
            " 13  rainy                   1096 non-null   int64  \n",
            "dtypes: float64(11), int64(3)\n",
            "memory usage: 128.4+ KB\n"
          ]
        }
      ]
    },
    {
      "cell_type": "code",
      "source": [
        "grouped_wdata.describe()"
      ],
      "metadata": {
        "colab": {
          "base_uri": "https://localhost:8080/",
          "height": 300
        },
        "id": "svxnLIlwc8ef",
        "outputId": "2b34e83a-7aaa-4ea8-bf12-cada187f88fd"
      },
      "execution_count": 363,
      "outputs": [
        {
          "output_type": "execute_result",
          "data": {
            "text/plain": [
              "       temperature  relative humidity     dewpoint     pressure  \\\n",
              "count  1096.000000        1096.000000  1096.000000  1096.000000   \n",
              "mean     22.717419          72.140891    16.460097  1011.272643   \n",
              "std       2.168476          14.344992     3.508780     2.653305   \n",
              "min      16.525000          26.791667     1.350000  1003.979167   \n",
              "25%      21.316667          62.625000    14.428125  1009.269792   \n",
              "50%      22.379167          76.145833    17.889583  1011.058333   \n",
              "75%      23.952083          82.843750    19.121875  1013.371875   \n",
              "max      29.037500          97.666667    21.091667  1019.033333   \n",
              "\n",
              "       surface pressure  cloudcover low  cloudcover mid  shortwave radiation  \\\n",
              "count       1096.000000     1096.000000     1096.000000          1096.000000   \n",
              "mean         918.008854       28.499278       25.553110          5095.102190   \n",
              "std            2.279357       23.101711       23.644204          1523.060264   \n",
              "min          911.058333        0.000000        0.000000           363.000000   \n",
              "25%          916.330208        5.104167        8.093750          4050.750000   \n",
              "50%          918.000000       27.062500       19.583333          5251.500000   \n",
              "75%          919.718750       46.354167       36.729167          6288.000000   \n",
              "max          924.391667       99.333333       98.333333          7899.000000   \n",
              "\n",
              "       direct radiation    windspeed  vapor pressure deficit  \\\n",
              "count       1096.000000  1096.000000             1096.000000   \n",
              "mean        3302.274635    17.759573                0.914313   \n",
              "std         1775.816333     6.266585                0.570075   \n",
              "min            1.000000     4.337500                0.042500   \n",
              "25%         1787.750000    13.428125                0.508854   \n",
              "50%         3363.000000    17.012500                0.720000   \n",
              "75%         4882.250000    21.029167                1.242917   \n",
              "max         6592.000000    42.258333                2.697500   \n",
              "\n",
              "       soil temperature  soil moisture        rainy  \n",
              "count       1096.000000    1096.000000  1096.000000  \n",
              "mean          24.839351       0.379869     0.452555  \n",
              "std            2.894350       0.087928     0.497971  \n",
              "min           18.095833       0.251000     0.000000  \n",
              "25%           22.869792       0.280740     0.000000  \n",
              "50%           24.097917       0.399229     0.000000  \n",
              "75%           26.379167       0.463844     1.000000  \n",
              "max           32.570833       0.502333     1.000000  "
            ],
            "text/html": [
              "\n",
              "  <div id=\"df-ac25f659-3d1b-46ba-9df6-a531830c3c65\">\n",
              "    <div class=\"colab-df-container\">\n",
              "      <div>\n",
              "<style scoped>\n",
              "    .dataframe tbody tr th:only-of-type {\n",
              "        vertical-align: middle;\n",
              "    }\n",
              "\n",
              "    .dataframe tbody tr th {\n",
              "        vertical-align: top;\n",
              "    }\n",
              "\n",
              "    .dataframe thead th {\n",
              "        text-align: right;\n",
              "    }\n",
              "</style>\n",
              "<table border=\"1\" class=\"dataframe\">\n",
              "  <thead>\n",
              "    <tr style=\"text-align: right;\">\n",
              "      <th></th>\n",
              "      <th>temperature</th>\n",
              "      <th>relative humidity</th>\n",
              "      <th>dewpoint</th>\n",
              "      <th>pressure</th>\n",
              "      <th>surface pressure</th>\n",
              "      <th>cloudcover low</th>\n",
              "      <th>cloudcover mid</th>\n",
              "      <th>shortwave radiation</th>\n",
              "      <th>direct radiation</th>\n",
              "      <th>windspeed</th>\n",
              "      <th>vapor pressure deficit</th>\n",
              "      <th>soil temperature</th>\n",
              "      <th>soil moisture</th>\n",
              "      <th>rainy</th>\n",
              "    </tr>\n",
              "  </thead>\n",
              "  <tbody>\n",
              "    <tr>\n",
              "      <th>count</th>\n",
              "      <td>1096.000000</td>\n",
              "      <td>1096.000000</td>\n",
              "      <td>1096.000000</td>\n",
              "      <td>1096.000000</td>\n",
              "      <td>1096.000000</td>\n",
              "      <td>1096.000000</td>\n",
              "      <td>1096.000000</td>\n",
              "      <td>1096.000000</td>\n",
              "      <td>1096.000000</td>\n",
              "      <td>1096.000000</td>\n",
              "      <td>1096.000000</td>\n",
              "      <td>1096.000000</td>\n",
              "      <td>1096.000000</td>\n",
              "      <td>1096.000000</td>\n",
              "    </tr>\n",
              "    <tr>\n",
              "      <th>mean</th>\n",
              "      <td>22.717419</td>\n",
              "      <td>72.140891</td>\n",
              "      <td>16.460097</td>\n",
              "      <td>1011.272643</td>\n",
              "      <td>918.008854</td>\n",
              "      <td>28.499278</td>\n",
              "      <td>25.553110</td>\n",
              "      <td>5095.102190</td>\n",
              "      <td>3302.274635</td>\n",
              "      <td>17.759573</td>\n",
              "      <td>0.914313</td>\n",
              "      <td>24.839351</td>\n",
              "      <td>0.379869</td>\n",
              "      <td>0.452555</td>\n",
              "    </tr>\n",
              "    <tr>\n",
              "      <th>std</th>\n",
              "      <td>2.168476</td>\n",
              "      <td>14.344992</td>\n",
              "      <td>3.508780</td>\n",
              "      <td>2.653305</td>\n",
              "      <td>2.279357</td>\n",
              "      <td>23.101711</td>\n",
              "      <td>23.644204</td>\n",
              "      <td>1523.060264</td>\n",
              "      <td>1775.816333</td>\n",
              "      <td>6.266585</td>\n",
              "      <td>0.570075</td>\n",
              "      <td>2.894350</td>\n",
              "      <td>0.087928</td>\n",
              "      <td>0.497971</td>\n",
              "    </tr>\n",
              "    <tr>\n",
              "      <th>min</th>\n",
              "      <td>16.525000</td>\n",
              "      <td>26.791667</td>\n",
              "      <td>1.350000</td>\n",
              "      <td>1003.979167</td>\n",
              "      <td>911.058333</td>\n",
              "      <td>0.000000</td>\n",
              "      <td>0.000000</td>\n",
              "      <td>363.000000</td>\n",
              "      <td>1.000000</td>\n",
              "      <td>4.337500</td>\n",
              "      <td>0.042500</td>\n",
              "      <td>18.095833</td>\n",
              "      <td>0.251000</td>\n",
              "      <td>0.000000</td>\n",
              "    </tr>\n",
              "    <tr>\n",
              "      <th>25%</th>\n",
              "      <td>21.316667</td>\n",
              "      <td>62.625000</td>\n",
              "      <td>14.428125</td>\n",
              "      <td>1009.269792</td>\n",
              "      <td>916.330208</td>\n",
              "      <td>5.104167</td>\n",
              "      <td>8.093750</td>\n",
              "      <td>4050.750000</td>\n",
              "      <td>1787.750000</td>\n",
              "      <td>13.428125</td>\n",
              "      <td>0.508854</td>\n",
              "      <td>22.869792</td>\n",
              "      <td>0.280740</td>\n",
              "      <td>0.000000</td>\n",
              "    </tr>\n",
              "    <tr>\n",
              "      <th>50%</th>\n",
              "      <td>22.379167</td>\n",
              "      <td>76.145833</td>\n",
              "      <td>17.889583</td>\n",
              "      <td>1011.058333</td>\n",
              "      <td>918.000000</td>\n",
              "      <td>27.062500</td>\n",
              "      <td>19.583333</td>\n",
              "      <td>5251.500000</td>\n",
              "      <td>3363.000000</td>\n",
              "      <td>17.012500</td>\n",
              "      <td>0.720000</td>\n",
              "      <td>24.097917</td>\n",
              "      <td>0.399229</td>\n",
              "      <td>0.000000</td>\n",
              "    </tr>\n",
              "    <tr>\n",
              "      <th>75%</th>\n",
              "      <td>23.952083</td>\n",
              "      <td>82.843750</td>\n",
              "      <td>19.121875</td>\n",
              "      <td>1013.371875</td>\n",
              "      <td>919.718750</td>\n",
              "      <td>46.354167</td>\n",
              "      <td>36.729167</td>\n",
              "      <td>6288.000000</td>\n",
              "      <td>4882.250000</td>\n",
              "      <td>21.029167</td>\n",
              "      <td>1.242917</td>\n",
              "      <td>26.379167</td>\n",
              "      <td>0.463844</td>\n",
              "      <td>1.000000</td>\n",
              "    </tr>\n",
              "    <tr>\n",
              "      <th>max</th>\n",
              "      <td>29.037500</td>\n",
              "      <td>97.666667</td>\n",
              "      <td>21.091667</td>\n",
              "      <td>1019.033333</td>\n",
              "      <td>924.391667</td>\n",
              "      <td>99.333333</td>\n",
              "      <td>98.333333</td>\n",
              "      <td>7899.000000</td>\n",
              "      <td>6592.000000</td>\n",
              "      <td>42.258333</td>\n",
              "      <td>2.697500</td>\n",
              "      <td>32.570833</td>\n",
              "      <td>0.502333</td>\n",
              "      <td>1.000000</td>\n",
              "    </tr>\n",
              "  </tbody>\n",
              "</table>\n",
              "</div>\n",
              "      <button class=\"colab-df-convert\" onclick=\"convertToInteractive('df-ac25f659-3d1b-46ba-9df6-a531830c3c65')\"\n",
              "              title=\"Convert this dataframe to an interactive table.\"\n",
              "              style=\"display:none;\">\n",
              "        \n",
              "  <svg xmlns=\"http://www.w3.org/2000/svg\" height=\"24px\"viewBox=\"0 0 24 24\"\n",
              "       width=\"24px\">\n",
              "    <path d=\"M0 0h24v24H0V0z\" fill=\"none\"/>\n",
              "    <path d=\"M18.56 5.44l.94 2.06.94-2.06 2.06-.94-2.06-.94-.94-2.06-.94 2.06-2.06.94zm-11 1L8.5 8.5l.94-2.06 2.06-.94-2.06-.94L8.5 2.5l-.94 2.06-2.06.94zm10 10l.94 2.06.94-2.06 2.06-.94-2.06-.94-.94-2.06-.94 2.06-2.06.94z\"/><path d=\"M17.41 7.96l-1.37-1.37c-.4-.4-.92-.59-1.43-.59-.52 0-1.04.2-1.43.59L10.3 9.45l-7.72 7.72c-.78.78-.78 2.05 0 2.83L4 21.41c.39.39.9.59 1.41.59.51 0 1.02-.2 1.41-.59l7.78-7.78 2.81-2.81c.8-.78.8-2.07 0-2.86zM5.41 20L4 18.59l7.72-7.72 1.47 1.35L5.41 20z\"/>\n",
              "  </svg>\n",
              "      </button>\n",
              "      \n",
              "  <style>\n",
              "    .colab-df-container {\n",
              "      display:flex;\n",
              "      flex-wrap:wrap;\n",
              "      gap: 12px;\n",
              "    }\n",
              "\n",
              "    .colab-df-convert {\n",
              "      background-color: #E8F0FE;\n",
              "      border: none;\n",
              "      border-radius: 50%;\n",
              "      cursor: pointer;\n",
              "      display: none;\n",
              "      fill: #1967D2;\n",
              "      height: 32px;\n",
              "      padding: 0 0 0 0;\n",
              "      width: 32px;\n",
              "    }\n",
              "\n",
              "    .colab-df-convert:hover {\n",
              "      background-color: #E2EBFA;\n",
              "      box-shadow: 0px 1px 2px rgba(60, 64, 67, 0.3), 0px 1px 3px 1px rgba(60, 64, 67, 0.15);\n",
              "      fill: #174EA6;\n",
              "    }\n",
              "\n",
              "    [theme=dark] .colab-df-convert {\n",
              "      background-color: #3B4455;\n",
              "      fill: #D2E3FC;\n",
              "    }\n",
              "\n",
              "    [theme=dark] .colab-df-convert:hover {\n",
              "      background-color: #434B5C;\n",
              "      box-shadow: 0px 1px 3px 1px rgba(0, 0, 0, 0.15);\n",
              "      filter: drop-shadow(0px 1px 2px rgba(0, 0, 0, 0.3));\n",
              "      fill: #FFFFFF;\n",
              "    }\n",
              "  </style>\n",
              "\n",
              "      <script>\n",
              "        const buttonEl =\n",
              "          document.querySelector('#df-ac25f659-3d1b-46ba-9df6-a531830c3c65 button.colab-df-convert');\n",
              "        buttonEl.style.display =\n",
              "          google.colab.kernel.accessAllowed ? 'block' : 'none';\n",
              "\n",
              "        async function convertToInteractive(key) {\n",
              "          const element = document.querySelector('#df-ac25f659-3d1b-46ba-9df6-a531830c3c65');\n",
              "          const dataTable =\n",
              "            await google.colab.kernel.invokeFunction('convertToInteractive',\n",
              "                                                     [key], {});\n",
              "          if (!dataTable) return;\n",
              "\n",
              "          const docLinkHtml = 'Like what you see? Visit the ' +\n",
              "            '<a target=\"_blank\" href=https://colab.research.google.com/notebooks/data_table.ipynb>data table notebook</a>'\n",
              "            + ' to learn more about interactive tables.';\n",
              "          element.innerHTML = '';\n",
              "          dataTable['output_type'] = 'display_data';\n",
              "          await google.colab.output.renderOutput(dataTable, element);\n",
              "          const docLink = document.createElement('div');\n",
              "          docLink.innerHTML = docLinkHtml;\n",
              "          element.appendChild(docLink);\n",
              "        }\n",
              "      </script>\n",
              "    </div>\n",
              "  </div>\n",
              "  "
            ]
          },
          "metadata": {},
          "execution_count": 363
        }
      ]
    },
    {
      "cell_type": "code",
      "source": [
        "# check missing values\n",
        "\n",
        "grouped_wdata.isna().sum()"
      ],
      "metadata": {
        "colab": {
          "base_uri": "https://localhost:8080/"
        },
        "id": "OFIkOONWdGKf",
        "outputId": "407f825f-e5c5-4871-854d-8474d33523e8"
      },
      "execution_count": 364,
      "outputs": [
        {
          "output_type": "execute_result",
          "data": {
            "text/plain": [
              "temperature               0\n",
              "relative humidity         0\n",
              "dewpoint                  0\n",
              "pressure                  0\n",
              "surface pressure          0\n",
              "cloudcover low            0\n",
              "cloudcover mid            0\n",
              "shortwave radiation       0\n",
              "direct radiation          0\n",
              "windspeed                 0\n",
              "vapor pressure deficit    0\n",
              "soil temperature          0\n",
              "soil moisture             0\n",
              "rainy                     0\n",
              "dtype: int64"
            ]
          },
          "metadata": {},
          "execution_count": 364
        }
      ]
    },
    {
      "cell_type": "markdown",
      "source": [
        "we have no null values in a dataset"
      ],
      "metadata": {
        "id": "jbws8GV9cAxS"
      }
    },
    {
      "cell_type": "code",
      "source": [
        "# checking number of unique value in each columns\n",
        "grouped_wdata.nunique()"
      ],
      "metadata": {
        "colab": {
          "base_uri": "https://localhost:8080/"
        },
        "id": "z6qmA1C5dUlQ",
        "outputId": "fce2ae8e-bd67-4016-a700-2f0f94e6cff2"
      },
      "execution_count": 365,
      "outputs": [
        {
          "output_type": "execute_result",
          "data": {
            "text/plain": [
              "temperature                823\n",
              "relative humidity          712\n",
              "dewpoint                   856\n",
              "pressure                   887\n",
              "surface pressure           832\n",
              "cloudcover low             747\n",
              "cloudcover mid             722\n",
              "shortwave radiation        981\n",
              "direct radiation          1001\n",
              "windspeed                  965\n",
              "vapor pressure deficit     947\n",
              "soil temperature           882\n",
              "soil moisture              895\n",
              "rainy                        2\n",
              "dtype: int64"
            ]
          },
          "metadata": {},
          "execution_count": 365
        }
      ]
    },
    {
      "cell_type": "code",
      "source": [
        "# sepration of independent and dependent columns \n",
        "X= grouped_wdata.drop(['rainy'], axis = 1)\n",
        "y= grouped_wdata['rainy']\n"
      ],
      "metadata": {
        "id": "inGvApiMSDpG"
      },
      "execution_count": 366,
      "outputs": []
    },
    {
      "cell_type": "code",
      "source": [
        "X.head()"
      ],
      "metadata": {
        "colab": {
          "base_uri": "https://localhost:8080/",
          "height": 238
        },
        "id": "tfnmtJhYJiFW",
        "outputId": "d570586e-ef16-4328-e119-0bba75fcd3fd"
      },
      "execution_count": 367,
      "outputs": [
        {
          "output_type": "execute_result",
          "data": {
            "text/plain": [
              "            temperature  relative humidity   dewpoint     pressure  \\\n",
              "Date                                                                 \n",
              "2020-01-01    21.245833          80.833333  17.545833  1015.958333   \n",
              "2020-01-02    21.725000          79.750000  17.775000  1016.779167   \n",
              "2020-01-03    22.762500          72.791667  16.970833  1015.279167   \n",
              "2020-01-04    23.108333          68.291667  16.204167  1013.433333   \n",
              "2020-01-05    23.137500          70.583333  16.800000  1013.275000   \n",
              "\n",
              "            surface pressure  cloudcover low  cloudcover mid  \\\n",
              "Date                                                           \n",
              "2020-01-01        921.795833       57.666667       13.958333   \n",
              "2020-01-02        922.770833       53.333333       15.041667   \n",
              "2020-01-03        921.633333       40.083333        9.500000   \n",
              "2020-01-04        920.012500       22.166667       17.375000   \n",
              "2020-01-05        919.904167       23.833333       14.958333   \n",
              "\n",
              "            shortwave radiation  direct radiation  windspeed  \\\n",
              "Date                                                           \n",
              "2020-01-01                 4312              2729  19.041667   \n",
              "2020-01-02                 4083              2473  16.420833   \n",
              "2020-01-03                 5229              3987  12.945833   \n",
              "2020-01-04                 4985              3592  11.741667   \n",
              "2020-01-05                 4877              3546  13.150000   \n",
              "\n",
              "            vapor pressure deficit  soil temperature  soil moisture  \n",
              "Date                                                                 \n",
              "2020-01-01                0.547500         23.120833       0.316833  \n",
              "2020-01-02                0.590000         23.445833       0.322792  \n",
              "2020-01-03                0.884167         24.304167       0.322333  \n",
              "2020-01-04                1.024583         24.554167       0.314333  \n",
              "2020-01-05                0.953750         24.629167       0.307625  "
            ],
            "text/html": [
              "\n",
              "  <div id=\"df-19772c77-a9ff-46e8-a8fc-5fb509787a09\">\n",
              "    <div class=\"colab-df-container\">\n",
              "      <div>\n",
              "<style scoped>\n",
              "    .dataframe tbody tr th:only-of-type {\n",
              "        vertical-align: middle;\n",
              "    }\n",
              "\n",
              "    .dataframe tbody tr th {\n",
              "        vertical-align: top;\n",
              "    }\n",
              "\n",
              "    .dataframe thead th {\n",
              "        text-align: right;\n",
              "    }\n",
              "</style>\n",
              "<table border=\"1\" class=\"dataframe\">\n",
              "  <thead>\n",
              "    <tr style=\"text-align: right;\">\n",
              "      <th></th>\n",
              "      <th>temperature</th>\n",
              "      <th>relative humidity</th>\n",
              "      <th>dewpoint</th>\n",
              "      <th>pressure</th>\n",
              "      <th>surface pressure</th>\n",
              "      <th>cloudcover low</th>\n",
              "      <th>cloudcover mid</th>\n",
              "      <th>shortwave radiation</th>\n",
              "      <th>direct radiation</th>\n",
              "      <th>windspeed</th>\n",
              "      <th>vapor pressure deficit</th>\n",
              "      <th>soil temperature</th>\n",
              "      <th>soil moisture</th>\n",
              "    </tr>\n",
              "    <tr>\n",
              "      <th>Date</th>\n",
              "      <th></th>\n",
              "      <th></th>\n",
              "      <th></th>\n",
              "      <th></th>\n",
              "      <th></th>\n",
              "      <th></th>\n",
              "      <th></th>\n",
              "      <th></th>\n",
              "      <th></th>\n",
              "      <th></th>\n",
              "      <th></th>\n",
              "      <th></th>\n",
              "      <th></th>\n",
              "    </tr>\n",
              "  </thead>\n",
              "  <tbody>\n",
              "    <tr>\n",
              "      <th>2020-01-01</th>\n",
              "      <td>21.245833</td>\n",
              "      <td>80.833333</td>\n",
              "      <td>17.545833</td>\n",
              "      <td>1015.958333</td>\n",
              "      <td>921.795833</td>\n",
              "      <td>57.666667</td>\n",
              "      <td>13.958333</td>\n",
              "      <td>4312</td>\n",
              "      <td>2729</td>\n",
              "      <td>19.041667</td>\n",
              "      <td>0.547500</td>\n",
              "      <td>23.120833</td>\n",
              "      <td>0.316833</td>\n",
              "    </tr>\n",
              "    <tr>\n",
              "      <th>2020-01-02</th>\n",
              "      <td>21.725000</td>\n",
              "      <td>79.750000</td>\n",
              "      <td>17.775000</td>\n",
              "      <td>1016.779167</td>\n",
              "      <td>922.770833</td>\n",
              "      <td>53.333333</td>\n",
              "      <td>15.041667</td>\n",
              "      <td>4083</td>\n",
              "      <td>2473</td>\n",
              "      <td>16.420833</td>\n",
              "      <td>0.590000</td>\n",
              "      <td>23.445833</td>\n",
              "      <td>0.322792</td>\n",
              "    </tr>\n",
              "    <tr>\n",
              "      <th>2020-01-03</th>\n",
              "      <td>22.762500</td>\n",
              "      <td>72.791667</td>\n",
              "      <td>16.970833</td>\n",
              "      <td>1015.279167</td>\n",
              "      <td>921.633333</td>\n",
              "      <td>40.083333</td>\n",
              "      <td>9.500000</td>\n",
              "      <td>5229</td>\n",
              "      <td>3987</td>\n",
              "      <td>12.945833</td>\n",
              "      <td>0.884167</td>\n",
              "      <td>24.304167</td>\n",
              "      <td>0.322333</td>\n",
              "    </tr>\n",
              "    <tr>\n",
              "      <th>2020-01-04</th>\n",
              "      <td>23.108333</td>\n",
              "      <td>68.291667</td>\n",
              "      <td>16.204167</td>\n",
              "      <td>1013.433333</td>\n",
              "      <td>920.012500</td>\n",
              "      <td>22.166667</td>\n",
              "      <td>17.375000</td>\n",
              "      <td>4985</td>\n",
              "      <td>3592</td>\n",
              "      <td>11.741667</td>\n",
              "      <td>1.024583</td>\n",
              "      <td>24.554167</td>\n",
              "      <td>0.314333</td>\n",
              "    </tr>\n",
              "    <tr>\n",
              "      <th>2020-01-05</th>\n",
              "      <td>23.137500</td>\n",
              "      <td>70.583333</td>\n",
              "      <td>16.800000</td>\n",
              "      <td>1013.275000</td>\n",
              "      <td>919.904167</td>\n",
              "      <td>23.833333</td>\n",
              "      <td>14.958333</td>\n",
              "      <td>4877</td>\n",
              "      <td>3546</td>\n",
              "      <td>13.150000</td>\n",
              "      <td>0.953750</td>\n",
              "      <td>24.629167</td>\n",
              "      <td>0.307625</td>\n",
              "    </tr>\n",
              "  </tbody>\n",
              "</table>\n",
              "</div>\n",
              "      <button class=\"colab-df-convert\" onclick=\"convertToInteractive('df-19772c77-a9ff-46e8-a8fc-5fb509787a09')\"\n",
              "              title=\"Convert this dataframe to an interactive table.\"\n",
              "              style=\"display:none;\">\n",
              "        \n",
              "  <svg xmlns=\"http://www.w3.org/2000/svg\" height=\"24px\"viewBox=\"0 0 24 24\"\n",
              "       width=\"24px\">\n",
              "    <path d=\"M0 0h24v24H0V0z\" fill=\"none\"/>\n",
              "    <path d=\"M18.56 5.44l.94 2.06.94-2.06 2.06-.94-2.06-.94-.94-2.06-.94 2.06-2.06.94zm-11 1L8.5 8.5l.94-2.06 2.06-.94-2.06-.94L8.5 2.5l-.94 2.06-2.06.94zm10 10l.94 2.06.94-2.06 2.06-.94-2.06-.94-.94-2.06-.94 2.06-2.06.94z\"/><path d=\"M17.41 7.96l-1.37-1.37c-.4-.4-.92-.59-1.43-.59-.52 0-1.04.2-1.43.59L10.3 9.45l-7.72 7.72c-.78.78-.78 2.05 0 2.83L4 21.41c.39.39.9.59 1.41.59.51 0 1.02-.2 1.41-.59l7.78-7.78 2.81-2.81c.8-.78.8-2.07 0-2.86zM5.41 20L4 18.59l7.72-7.72 1.47 1.35L5.41 20z\"/>\n",
              "  </svg>\n",
              "      </button>\n",
              "      \n",
              "  <style>\n",
              "    .colab-df-container {\n",
              "      display:flex;\n",
              "      flex-wrap:wrap;\n",
              "      gap: 12px;\n",
              "    }\n",
              "\n",
              "    .colab-df-convert {\n",
              "      background-color: #E8F0FE;\n",
              "      border: none;\n",
              "      border-radius: 50%;\n",
              "      cursor: pointer;\n",
              "      display: none;\n",
              "      fill: #1967D2;\n",
              "      height: 32px;\n",
              "      padding: 0 0 0 0;\n",
              "      width: 32px;\n",
              "    }\n",
              "\n",
              "    .colab-df-convert:hover {\n",
              "      background-color: #E2EBFA;\n",
              "      box-shadow: 0px 1px 2px rgba(60, 64, 67, 0.3), 0px 1px 3px 1px rgba(60, 64, 67, 0.15);\n",
              "      fill: #174EA6;\n",
              "    }\n",
              "\n",
              "    [theme=dark] .colab-df-convert {\n",
              "      background-color: #3B4455;\n",
              "      fill: #D2E3FC;\n",
              "    }\n",
              "\n",
              "    [theme=dark] .colab-df-convert:hover {\n",
              "      background-color: #434B5C;\n",
              "      box-shadow: 0px 1px 3px 1px rgba(0, 0, 0, 0.15);\n",
              "      filter: drop-shadow(0px 1px 2px rgba(0, 0, 0, 0.3));\n",
              "      fill: #FFFFFF;\n",
              "    }\n",
              "  </style>\n",
              "\n",
              "      <script>\n",
              "        const buttonEl =\n",
              "          document.querySelector('#df-19772c77-a9ff-46e8-a8fc-5fb509787a09 button.colab-df-convert');\n",
              "        buttonEl.style.display =\n",
              "          google.colab.kernel.accessAllowed ? 'block' : 'none';\n",
              "\n",
              "        async function convertToInteractive(key) {\n",
              "          const element = document.querySelector('#df-19772c77-a9ff-46e8-a8fc-5fb509787a09');\n",
              "          const dataTable =\n",
              "            await google.colab.kernel.invokeFunction('convertToInteractive',\n",
              "                                                     [key], {});\n",
              "          if (!dataTable) return;\n",
              "\n",
              "          const docLinkHtml = 'Like what you see? Visit the ' +\n",
              "            '<a target=\"_blank\" href=https://colab.research.google.com/notebooks/data_table.ipynb>data table notebook</a>'\n",
              "            + ' to learn more about interactive tables.';\n",
              "          element.innerHTML = '';\n",
              "          dataTable['output_type'] = 'display_data';\n",
              "          await google.colab.output.renderOutput(dataTable, element);\n",
              "          const docLink = document.createElement('div');\n",
              "          docLink.innerHTML = docLinkHtml;\n",
              "          element.appendChild(docLink);\n",
              "        }\n",
              "      </script>\n",
              "    </div>\n",
              "  </div>\n",
              "  "
            ]
          },
          "metadata": {},
          "execution_count": 367
        }
      ]
    },
    {
      "cell_type": "code",
      "source": [
        "y.head()"
      ],
      "metadata": {
        "colab": {
          "base_uri": "https://localhost:8080/"
        },
        "id": "qE9FbBDeSTw-",
        "outputId": "07db2b66-e8b4-44c5-ad2e-cf660a7a681b"
      },
      "execution_count": 368,
      "outputs": [
        {
          "output_type": "execute_result",
          "data": {
            "text/plain": [
              "Date\n",
              "2020-01-01    1\n",
              "2020-01-02    1\n",
              "2020-01-03    0\n",
              "2020-01-04    0\n",
              "2020-01-05    0\n",
              "Name: rainy, dtype: int64"
            ]
          },
          "metadata": {},
          "execution_count": 368
        }
      ]
    },
    {
      "cell_type": "code",
      "source": [
        "feature_columns = list(X.columns)"
      ],
      "metadata": {
        "id": "ajXUI2MpOdnK"
      },
      "execution_count": 369,
      "outputs": []
    },
    {
      "cell_type": "code",
      "source": [
        "feature_columns"
      ],
      "metadata": {
        "colab": {
          "base_uri": "https://localhost:8080/"
        },
        "id": "RjkUnEAzSRD3",
        "outputId": "52d623ed-a30c-40c2-b3a1-16a939286905"
      },
      "execution_count": 370,
      "outputs": [
        {
          "output_type": "execute_result",
          "data": {
            "text/plain": [
              "['temperature',\n",
              " 'relative humidity',\n",
              " 'dewpoint',\n",
              " 'pressure',\n",
              " 'surface pressure',\n",
              " 'cloudcover low',\n",
              " 'cloudcover mid',\n",
              " 'shortwave radiation',\n",
              " 'direct radiation',\n",
              " 'windspeed',\n",
              " 'vapor pressure deficit',\n",
              " 'soil temperature',\n",
              " 'soil moisture']"
            ]
          },
          "metadata": {},
          "execution_count": 370
        }
      ]
    },
    {
      "cell_type": "markdown",
      "source": [
        "### **EDA**"
      ],
      "metadata": {
        "id": "dPkGwQcZSebE"
      }
    },
    {
      "cell_type": "code",
      "source": [
        "# count of our dependent categrocial variable of rainy days\n",
        "\n",
        "sns.countplot(grouped_wdata['rainy']).set_title(\"Rainy Days\")"
      ],
      "metadata": {
        "colab": {
          "base_uri": "https://localhost:8080/",
          "height": 312
        },
        "id": "2XTu7HnwKP_-",
        "outputId": "774b43ac-db73-4df0-a4d0-ca3fcf28abd3"
      },
      "execution_count": 371,
      "outputs": [
        {
          "output_type": "execute_result",
          "data": {
            "text/plain": [
              "Text(0.5, 1.0, 'Rainy Days')"
            ]
          },
          "metadata": {},
          "execution_count": 371
        },
        {
          "output_type": "display_data",
          "data": {
            "text/plain": [
              "<Figure size 432x288 with 1 Axes>"
            ],
            "image/png": "[encoded data removed]"
          },
          "metadata": {
            "needs_background": "light"
          }
        }
      ]
    },
    {
      "cell_type": "code",
      "source": [
        "# making a pie chart \n",
        "\n",
        "rainday_lables = ['No rain' , 'Rainy day' ]\n",
        "rainday_value_count = grouped_wdata['rainy'].value_counts()\n",
        "\n",
        "# Creating the plot\n",
        "fig = plt.figure(figsize=(10,8))\n",
        "plt.pie(rainday_value_count, labels = rainday_lables,  shadow=True, startangle= 90)\n",
        "plt.show()"
      ],
      "metadata": {
        "colab": {
          "base_uri": "https://localhost:8080/",
          "height": 466
        },
        "id": "2QMsj0V3KQDU",
        "outputId": "5e46eaf2-5c49-495b-cf3a-24b7cfd1bb40"
      },
      "execution_count": 372,
      "outputs": [
        {
          "output_type": "display_data",
          "data": {
            "text/plain": [
              "<Figure size 720x576 with 1 Axes>"
            ],
            "image/png": "[encoded data removed]"
          },
          "metadata": {}
        }
      ]
    },
    {
      "cell_type": "markdown",
      "source": [
        "rainy days(450-500) were sligthly less than number of not rainy days(600-650)"
      ],
      "metadata": {
        "id": "bAxWztdViLvl"
      }
    },
    {
      "cell_type": "code",
      "source": [
        "\n",
        "# checking data distribution of numerical columns\n",
        "fig = plt.figure(figsize=(10,5))\n",
        "n= 1\n",
        "for i in feature_columns:\n",
        "  n= n+1\n",
        "  sns.distplot(grouped_wdata[i],kde=True)\n",
        "  plt.show() "
      ],
      "metadata": {
        "colab": {
          "base_uri": "https://localhost:8080/",
          "height": 1000
        },
        "id": "V_GqmhbzKQFr",
        "outputId": "9ff8a124-71a6-4fe3-f33c-e8bb3e613df3"
      },
      "execution_count": 373,
      "outputs": [
        {
          "output_type": "display_data",
          "data": {
            "text/plain": [
              "<Figure size 720x360 with 1 Axes>"
            ],
            "image/png": "[encoded data removed]"
          },
          "metadata": {
            "needs_background": "light"
          }
        },
        {
          "output_type": "display_data",
          "data": {
            "text/plain": [
              "<Figure size 432x288 with 1 Axes>"
            ],
            "image/png": "[encoded data removed]"
          },
          "metadata": {
            "needs_background": "light"
          }
        },
        {
          "output_type": "display_data",
          "data": {
            "text/plain": [
              "<Figure size 432x288 with 1 Axes>"
            ],
            "image/png": "[encoded data removed]"
          },
          "metadata": {
            "needs_background": "light"
          }
        },
        {
          "output_type": "display_data",
          "data": {
            "text/plain": [
              "<Figure size 432x288 with 1 Axes>"
            ],
            "image/png": "[encoded data removed]"
          },
          "metadata": {
            "needs_background": "light"
          }
        },
        {
          "output_type": "display_data",
          "data": {
            "text/plain": [
              "<Figure size 432x288 with 1 Axes>"
            ],
            "image/png": "[encoded data removed]"
          },
          "metadata": {
            "needs_background": "light"
          }
        },
        {
          "output_type": "display_data",
          "data": {
            "text/plain": [
              "<Figure size 432x288 with 1 Axes>"
            ],
            "image/png": "[encoded data removed]"
          },
          "metadata": {
            "needs_background": "light"
          }
        },
        {
          "output_type": "display_data",
          "data": {
            "text/plain": [
              "<Figure size 432x288 with 1 Axes>"
            ],
            "image/png": "[encoded data removed]"
          },
          "metadata": {
            "needs_background": "light"
          }
        },
        {
          "output_type": "display_data",
          "data": {
            "text/plain": [
              "<Figure size 432x288 with 1 Axes>"
            ],
            "image/png": "[encoded data removed]"
          },
          "metadata": {
            "needs_background": "light"
          }
        },
        {
          "output_type": "display_data",
          "data": {
            "text/plain": [
              "<Figure size 432x288 with 1 Axes>"
            ],
            "image/png": "[encoded data removed]"
          },
          "metadata": {
            "needs_background": "light"
          }
        },
        {
          "output_type": "display_data",
          "data": {
            "text/plain": [
              "<Figure size 432x288 with 1 Axes>"
            ],
            "image/png": "[encoded data removed]"
          },
          "metadata": {
            "needs_background": "light"
          }
        },
        {
          "output_type": "display_data",
          "data": {
            "text/plain": [
              "<Figure size 432x288 with 1 Axes>"
            ],
            "image/png": "[encoded data removed]"
          },
          "metadata": {
            "needs_background": "light"
          }
        },
        {
          "output_type": "display_data",
          "data": {
            "text/plain": [
              "<Figure size 432x288 with 1 Axes>"
            ],
            "image/png": "[encoded data removed]"
          },
          "metadata": {
            "needs_background": "light"
          }
        },
        {
          "output_type": "display_data",
          "data": {
            "text/plain": [
              "<Figure size 432x288 with 1 Axes>"
            ],
            "image/png": "[encoded data removed]"
          },
          "metadata": {
            "needs_background": "light"
          }
        }
      ]
    },
    {
      "cell_type": "markdown",
      "source": [
        "**observation from distribution of nominal variables**\n",
        "\n",
        "Temperature was like normal distributed.  \n",
        "\n",
        "Relative humidity and dewpoint were like positively skewed, meanwhile cloudcover is negative skewed.\n",
        "\n",
        "Variables like direct radiation , shortwave radiation, and surface pressure has very widely spread distribution."
      ],
      "metadata": {
        "id": "DX2kirORjgNm"
      }
    },
    {
      "cell_type": "code",
      "source": [
        "# barplot od independent feature column with dependent column\n",
        "\n",
        "fig = plt.figure(figsize=(10,5))\n",
        "n= 1\n",
        "for i in feature_columns:\n",
        "  n= n+1\n",
        "  sns.barplot(data = grouped_wdata, y = i,x = 'rainy')\n",
        "  plt.show() "
      ],
      "metadata": {
        "colab": {
          "base_uri": "https://localhost:8080/",
          "height": 1000
        },
        "id": "Gejea-P_KQNN",
        "outputId": "5fa92669-e2ec-4dfb-d4b8-7d9f82b76c86"
      },
      "execution_count": 374,
      "outputs": [
        {
          "output_type": "display_data",
          "data": {
            "text/plain": [
              "<Figure size 720x360 with 1 Axes>"
            ],
            "image/png": "[encoded data removed]"
          },
          "metadata": {
            "needs_background": "light"
          }
        },
        {
          "output_type": "display_data",
          "data": {
            "text/plain": [
              "<Figure size 432x288 with 1 Axes>"
            ],
            "image/png": "[encoded data removed]"
          },
          "metadata": {
            "needs_background": "light"
          }
        },
        {
          "output_type": "display_data",
          "data": {
            "text/plain": [
              "<Figure size 432x288 with 1 Axes>"
            ],
            "image/png": "[encoded data removed]"
          },
          "metadata": {
            "needs_background": "light"
          }
        },
        {
          "output_type": "display_data",
          "data": {
            "text/plain": [
              "<Figure size 432x288 with 1 Axes>"
            ],
            "image/png": "[encoded data removed]"
          },
          "metadata": {
            "needs_background": "light"
          }
        },
        {
          "output_type": "display_data",
          "data": {
            "text/plain": [
              "<Figure size 432x288 with 1 Axes>"
            ],
            "image/png": "[encoded data removed]"
          },
          "metadata": {
            "needs_background": "light"
          }
        },
        {
          "output_type": "display_data",
          "data": {
            "text/plain": [
              "<Figure size 432x288 with 1 Axes>"
            ],
            "image/png": "[encoded data removed]"
          },
          "metadata": {
            "needs_background": "light"
          }
        },
        {
          "output_type": "display_data",
          "data": {
            "text/plain": [
              "<Figure size 432x288 with 1 Axes>"
            ],
            "image/png": "[encoded data removed]"
          },
          "metadata": {
            "needs_background": "light"
          }
        },
        {
          "output_type": "display_data",
          "data": {
            "text/plain": [
              "<Figure size 432x288 with 1 Axes>"
            ],
            "image/png": "[encoded data removed]"
          },
          "metadata": {
            "needs_background": "light"
          }
        },
        {
          "output_type": "display_data",
          "data": {
            "text/plain": [
              "<Figure size 432x288 with 1 Axes>"
            ],
            "image/png": "[encoded data removed]"
          },
          "metadata": {
            "needs_background": "light"
          }
        },
        {
          "output_type": "display_data",
          "data": {
            "text/plain": [
              "<Figure size 432x288 with 1 Axes>"
            ],
            "image/png": "[encoded data removed]"
          },
          "metadata": {
            "needs_background": "light"
          }
        },
        {
          "output_type": "display_data",
          "data": {
            "text/plain": [
              "<Figure size 432x288 with 1 Axes>"
            ],
            "image/png": "[encoded data removed]"
          },
          "metadata": {
            "needs_background": "light"
          }
        },
        {
          "output_type": "display_data",
          "data": {
            "text/plain": [
              "<Figure size 432x288 with 1 Axes>"
            ],
            "image/png": "[encoded data removed]"
          },
          "metadata": {
            "needs_background": "light"
          }
        },
        {
          "output_type": "display_data",
          "data": {
            "text/plain": [
              "<Figure size 432x288 with 1 Axes>"
            ],
            "image/png": "[encoded data removed]"
          },
          "metadata": {
            "needs_background": "light"
          }
        }
      ]
    },
    {
      "cell_type": "markdown",
      "source": [
        "**Bar plot observation**\n",
        "\n",
        "temperature on rainy days where slighty less than non- rain days.\n",
        "\n",
        "dewpoint and relative humidty were both increasing chance with probability of rain happening.\n",
        "\n",
        "seapressure and surface pressure were nearly equal on both the days.\n",
        "\n",
        "cloudcover were particulary high on rainy days\n",
        "\n",
        "\n",
        "\n"
      ],
      "metadata": {
        "id": "HRFKG0JTkzE2"
      }
    },
    {
      "cell_type": "code",
      "source": [
        "# ploting heat map to determine corelation b/w columns of your datasets\n",
        "\n",
        "plt.figure(figsize = (18,12))\n",
        "sns.heatmap(grouped_wdata.corr() , annot = True )"
      ],
      "metadata": {
        "colab": {
          "base_uri": "https://localhost:8080/",
          "height": 820
        },
        "id": "yvlt1M5odZsM",
        "outputId": "9dea97fb-9e69-4efc-ff43-9df14eaa549f"
      },
      "execution_count": 375,
      "outputs": [
        {
          "output_type": "execute_result",
          "data": {
            "text/plain": [
              "<matplotlib.axes._subplots.AxesSubplot at 0x7f137d7d7f70>"
            ]
          },
          "metadata": {},
          "execution_count": 375
        },
        {
          "output_type": "display_data",
          "data": {
            "text/plain": [
              "<Figure size 1296x864 with 2 Axes>"
            ],
            "image/png": "[encoded data removed]"
          },
          "metadata": {
            "needs_background": "light"
          }
        }
      ]
    },
    {
      "cell_type": "code",
      "source": [
        "# checking multicolinearity with the help of Variance Inflation Factor(VIF)"
      ],
      "metadata": {
        "id": "toOPWssSNrkZ"
      },
      "execution_count": 376,
      "outputs": []
    },
    {
      "cell_type": "code",
      "source": [
        "# calculating vif\n",
        "from statsmodels.stats.outliers_influence import variance_inflation_factor\n",
        "  \n",
        "def check_vif(dataframe):\n",
        "  # the independent variables set\n",
        "  X = dataframe\n",
        "  # VIF dataframe\n",
        "  vif_data = pd.DataFrame()\n",
        "  vif_data[\"feature\"] = X.columns\n",
        "    \n",
        "  # calculating VIF for each feature\n",
        "  vif_data[\"VIF\"] = [variance_inflation_factor(X.values, i)\n",
        "                            for i in range(len(X.columns))]\n",
        "  print(vif_data)"
      ],
      "metadata": {
        "id": "pB8ud1InOMIx"
      },
      "execution_count": 377,
      "outputs": []
    },
    {
      "cell_type": "code",
      "source": [
        "\n",
        "check_vif(grouped_wdata)"
      ],
      "metadata": {
        "colab": {
          "base_uri": "https://localhost:8080/"
        },
        "id": "dKvP_Xz3gQ8r",
        "outputId": "2d8aeda1-67da-4f97-bf60-d2aaa1d494bf"
      },
      "execution_count": 378,
      "outputs": [
        {
          "output_type": "stream",
          "name": "stdout",
          "text": [
            "                   feature           VIF\n",
            "0              temperature  1.843225e+04\n",
            "1        relative humidity  3.583573e+03\n",
            "2                 dewpoint  2.182195e+03\n",
            "3                 pressure  8.526582e+07\n",
            "4         surface pressure  8.658337e+07\n",
            "5           cloudcover low  1.033051e+01\n",
            "6           cloudcover mid  8.416795e+00\n",
            "7      shortwave radiation  4.976330e+02\n",
            "8         direct radiation  1.537944e+02\n",
            "9                windspeed  1.322470e+01\n",
            "10  vapor pressure deficit  6.081811e+02\n",
            "11        soil temperature  3.068974e+03\n",
            "12           soil moisture  1.528951e+02\n",
            "13                   rainy  5.130643e+00\n"
          ]
        }
      ]
    },
    {
      "cell_type": "markdown",
      "source": [
        "Our Vif value of variable is not that high, so multicolinearity is not big issue here, and we can move ahead"
      ],
      "metadata": {
        "id": "ET1_Gt7Jcga0"
      }
    },
    {
      "cell_type": "markdown",
      "source": [
        "## **Feature Scaling**"
      ],
      "metadata": {
        "id": "uAKlrS4qS4Ng"
      }
    },
    {
      "cell_type": "code",
      "source": [
        "# normalization or standard scaling\n",
        "X = X.apply(lambda x : (x-np.mean(x))/np.std(x))"
      ],
      "metadata": {
        "id": "W3aN9qkbhcgU"
      },
      "execution_count": 379,
      "outputs": []
    },
    {
      "cell_type": "code",
      "source": [
        "X.head()"
      ],
      "metadata": {
        "colab": {
          "base_uri": "https://localhost:8080/",
          "height": 238
        },
        "id": "mCqeYYovTE41",
        "outputId": "859f7660-0d5f-458d-964f-c22f1f4a67ff"
      },
      "execution_count": 380,
      "outputs": [
        {
          "output_type": "execute_result",
          "data": {
            "text/plain": [
              "            temperature  relative humidity  dewpoint  pressure  \\\n",
              "Date                                                             \n",
              "2020-01-01    -0.678937           0.606233  0.309575  1.766789   \n",
              "2020-01-02    -0.457867           0.530679  0.374918  2.076293   \n",
              "2020-01-03     0.020799           0.045387  0.145626  1.510702   \n",
              "2020-01-04     0.180354          -0.268455 -0.072973  0.814711   \n",
              "2020-01-05     0.193810          -0.108628  0.096916  0.755010   \n",
              "\n",
              "            surface pressure  cloudcover low  cloudcover mid  \\\n",
              "Date                                                           \n",
              "2020-01-01          1.662183        1.263140       -0.490609   \n",
              "2020-01-02          2.090130        1.075478       -0.444770   \n",
              "2020-01-03          1.590858        0.501666       -0.679255   \n",
              "2020-01-04          0.879441       -0.274244       -0.346040   \n",
              "2020-01-05          0.831891       -0.202066       -0.448296   \n",
              "\n",
              "            shortwave radiation  direct radiation  windspeed  \\\n",
              "Date                                                           \n",
              "2020-01-01            -0.514398         -0.322971   0.204686   \n",
              "2020-01-02            -0.664822         -0.467195  -0.213729   \n",
              "2020-01-03             0.087954          0.385759  -0.768511   \n",
              "2020-01-04            -0.072323          0.163225  -0.960755   \n",
              "2020-01-05            -0.143265          0.137310  -0.735916   \n",
              "\n",
              "            vapor pressure deficit  soil temperature  soil moisture  \n",
              "Date                                                                 \n",
              "2020-01-01               -0.643741         -0.594020      -0.717225  \n",
              "2020-01-02               -0.569156         -0.481681      -0.649431  \n",
              "2020-01-03               -0.052906         -0.184991      -0.654646  \n",
              "2020-01-04                0.193519         -0.098577      -0.745670  \n",
              "2020-01-05                0.069209         -0.072652      -0.821998  "
            ],
            "text/html": [
              "\n",
              "  <div id=\"df-22fd2456-2b94-4159-a461-bd90e4bec1a4\">\n",
              "    <div class=\"colab-df-container\">\n",
              "      <div>\n",
              "<style scoped>\n",
              "    .dataframe tbody tr th:only-of-type {\n",
              "        vertical-align: middle;\n",
              "    }\n",
              "\n",
              "    .dataframe tbody tr th {\n",
              "        vertical-align: top;\n",
              "    }\n",
              "\n",
              "    .dataframe thead th {\n",
              "        text-align: right;\n",
              "    }\n",
              "</style>\n",
              "<table border=\"1\" class=\"dataframe\">\n",
              "  <thead>\n",
              "    <tr style=\"text-align: right;\">\n",
              "      <th></th>\n",
              "      <th>temperature</th>\n",
              "      <th>relative humidity</th>\n",
              "      <th>dewpoint</th>\n",
              "      <th>pressure</th>\n",
              "      <th>surface pressure</th>\n",
              "      <th>cloudcover low</th>\n",
              "      <th>cloudcover mid</th>\n",
              "      <th>shortwave radiation</th>\n",
              "      <th>direct radiation</th>\n",
              "      <th>windspeed</th>\n",
              "      <th>vapor pressure deficit</th>\n",
              "      <th>soil temperature</th>\n",
              "      <th>soil moisture</th>\n",
              "    </tr>\n",
              "    <tr>\n",
              "      <th>Date</th>\n",
              "      <th></th>\n",
              "      <th></th>\n",
              "      <th></th>\n",
              "      <th></th>\n",
              "      <th></th>\n",
              "      <th></th>\n",
              "      <th></th>\n",
              "      <th></th>\n",
              "      <th></th>\n",
              "      <th></th>\n",
              "      <th></th>\n",
              "      <th></th>\n",
              "      <th></th>\n",
              "    </tr>\n",
              "  </thead>\n",
              "  <tbody>\n",
              "    <tr>\n",
              "      <th>2020-01-01</th>\n",
              "      <td>-0.678937</td>\n",
              "      <td>0.606233</td>\n",
              "      <td>0.309575</td>\n",
              "      <td>1.766789</td>\n",
              "      <td>1.662183</td>\n",
              "      <td>1.263140</td>\n",
              "      <td>-0.490609</td>\n",
              "      <td>-0.514398</td>\n",
              "      <td>-0.322971</td>\n",
              "      <td>0.204686</td>\n",
              "      <td>-0.643741</td>\n",
              "      <td>-0.594020</td>\n",
              "      <td>-0.717225</td>\n",
              "    </tr>\n",
              "    <tr>\n",
              "      <th>2020-01-02</th>\n",
              "      <td>-0.457867</td>\n",
              "      <td>0.530679</td>\n",
              "      <td>0.374918</td>\n",
              "      <td>2.076293</td>\n",
              "      <td>2.090130</td>\n",
              "      <td>1.075478</td>\n",
              "      <td>-0.444770</td>\n",
              "      <td>-0.664822</td>\n",
              "      <td>-0.467195</td>\n",
              "      <td>-0.213729</td>\n",
              "      <td>-0.569156</td>\n",
              "      <td>-0.481681</td>\n",
              "      <td>-0.649431</td>\n",
              "    </tr>\n",
              "    <tr>\n",
              "      <th>2020-01-03</th>\n",
              "      <td>0.020799</td>\n",
              "      <td>0.045387</td>\n",
              "      <td>0.145626</td>\n",
              "      <td>1.510702</td>\n",
              "      <td>1.590858</td>\n",
              "      <td>0.501666</td>\n",
              "      <td>-0.679255</td>\n",
              "      <td>0.087954</td>\n",
              "      <td>0.385759</td>\n",
              "      <td>-0.768511</td>\n",
              "      <td>-0.052906</td>\n",
              "      <td>-0.184991</td>\n",
              "      <td>-0.654646</td>\n",
              "    </tr>\n",
              "    <tr>\n",
              "      <th>2020-01-04</th>\n",
              "      <td>0.180354</td>\n",
              "      <td>-0.268455</td>\n",
              "      <td>-0.072973</td>\n",
              "      <td>0.814711</td>\n",
              "      <td>0.879441</td>\n",
              "      <td>-0.274244</td>\n",
              "      <td>-0.346040</td>\n",
              "      <td>-0.072323</td>\n",
              "      <td>0.163225</td>\n",
              "      <td>-0.960755</td>\n",
              "      <td>0.193519</td>\n",
              "      <td>-0.098577</td>\n",
              "      <td>-0.745670</td>\n",
              "    </tr>\n",
              "    <tr>\n",
              "      <th>2020-01-05</th>\n",
              "      <td>0.193810</td>\n",
              "      <td>-0.108628</td>\n",
              "      <td>0.096916</td>\n",
              "      <td>0.755010</td>\n",
              "      <td>0.831891</td>\n",
              "      <td>-0.202066</td>\n",
              "      <td>-0.448296</td>\n",
              "      <td>-0.143265</td>\n",
              "      <td>0.137310</td>\n",
              "      <td>-0.735916</td>\n",
              "      <td>0.069209</td>\n",
              "      <td>-0.072652</td>\n",
              "      <td>-0.821998</td>\n",
              "    </tr>\n",
              "  </tbody>\n",
              "</table>\n",
              "</div>\n",
              "      <button class=\"colab-df-convert\" onclick=\"convertToInteractive('df-22fd2456-2b94-4159-a461-bd90e4bec1a4')\"\n",
              "              title=\"Convert this dataframe to an interactive table.\"\n",
              "              style=\"display:none;\">\n",
              "        \n",
              "  <svg xmlns=\"http://www.w3.org/2000/svg\" height=\"24px\"viewBox=\"0 0 24 24\"\n",
              "       width=\"24px\">\n",
              "    <path d=\"M0 0h24v24H0V0z\" fill=\"none\"/>\n",
              "    <path d=\"M18.56 5.44l.94 2.06.94-2.06 2.06-.94-2.06-.94-.94-2.06-.94 2.06-2.06.94zm-11 1L8.5 8.5l.94-2.06 2.06-.94-2.06-.94L8.5 2.5l-.94 2.06-2.06.94zm10 10l.94 2.06.94-2.06 2.06-.94-2.06-.94-.94-2.06-.94 2.06-2.06.94z\"/><path d=\"M17.41 7.96l-1.37-1.37c-.4-.4-.92-.59-1.43-.59-.52 0-1.04.2-1.43.59L10.3 9.45l-7.72 7.72c-.78.78-.78 2.05 0 2.83L4 21.41c.39.39.9.59 1.41.59.51 0 1.02-.2 1.41-.59l7.78-7.78 2.81-2.81c.8-.78.8-2.07 0-2.86zM5.41 20L4 18.59l7.72-7.72 1.47 1.35L5.41 20z\"/>\n",
              "  </svg>\n",
              "      </button>\n",
              "      \n",
              "  <style>\n",
              "    .colab-df-container {\n",
              "      display:flex;\n",
              "      flex-wrap:wrap;\n",
              "      gap: 12px;\n",
              "    }\n",
              "\n",
              "    .colab-df-convert {\n",
              "      background-color: #E8F0FE;\n",
              "      border: none;\n",
              "      border-radius: 50%;\n",
              "      cursor: pointer;\n",
              "      display: none;\n",
              "      fill: #1967D2;\n",
              "      height: 32px;\n",
              "      padding: 0 0 0 0;\n",
              "      width: 32px;\n",
              "    }\n",
              "\n",
              "    .colab-df-convert:hover {\n",
              "      background-color: #E2EBFA;\n",
              "      box-shadow: 0px 1px 2px rgba(60, 64, 67, 0.3), 0px 1px 3px 1px rgba(60, 64, 67, 0.15);\n",
              "      fill: #174EA6;\n",
              "    }\n",
              "\n",
              "    [theme=dark] .colab-df-convert {\n",
              "      background-color: #3B4455;\n",
              "      fill: #D2E3FC;\n",
              "    }\n",
              "\n",
              "    [theme=dark] .colab-df-convert:hover {\n",
              "      background-color: #434B5C;\n",
              "      box-shadow: 0px 1px 3px 1px rgba(0, 0, 0, 0.15);\n",
              "      filter: drop-shadow(0px 1px 2px rgba(0, 0, 0, 0.3));\n",
              "      fill: #FFFFFF;\n",
              "    }\n",
              "  </style>\n",
              "\n",
              "      <script>\n",
              "        const buttonEl =\n",
              "          document.querySelector('#df-22fd2456-2b94-4159-a461-bd90e4bec1a4 button.colab-df-convert');\n",
              "        buttonEl.style.display =\n",
              "          google.colab.kernel.accessAllowed ? 'block' : 'none';\n",
              "\n",
              "        async function convertToInteractive(key) {\n",
              "          const element = document.querySelector('#df-22fd2456-2b94-4159-a461-bd90e4bec1a4');\n",
              "          const dataTable =\n",
              "            await google.colab.kernel.invokeFunction('convertToInteractive',\n",
              "                                                     [key], {});\n",
              "          if (!dataTable) return;\n",
              "\n",
              "          const docLinkHtml = 'Like what you see? Visit the ' +\n",
              "            '<a target=\"_blank\" href=https://colab.research.google.com/notebooks/data_table.ipynb>data table notebook</a>'\n",
              "            + ' to learn more about interactive tables.';\n",
              "          element.innerHTML = '';\n",
              "          dataTable['output_type'] = 'display_data';\n",
              "          await google.colab.output.renderOutput(dataTable, element);\n",
              "          const docLink = document.createElement('div');\n",
              "          docLink.innerHTML = docLinkHtml;\n",
              "          element.appendChild(docLink);\n",
              "        }\n",
              "      </script>\n",
              "    </div>\n",
              "  </div>\n",
              "  "
            ]
          },
          "metadata": {},
          "execution_count": 380
        }
      ]
    },
    {
      "cell_type": "markdown",
      "source": [
        "## **Train test spilt of dataset**"
      ],
      "metadata": {
        "id": "2GlZdzv1TJr3"
      }
    },
    {
      "cell_type": "code",
      "source": [
        "\n",
        "from sklearn.model_selection import train_test_split\n",
        "X_train, X_test, y_train, y_test = train_test_split(grouped_wdata.drop('rainy', axis=1),\n",
        "                                                    grouped_wdata['rainy'],\n",
        "                                                    test_size=0.2,\n",
        "                                                    random_state=0)"
      ],
      "metadata": {
        "id": "nIwZitQhfupF"
      },
      "execution_count": 381,
      "outputs": []
    },
    {
      "cell_type": "code",
      "source": [
        "X_train.shape, X_test.shape"
      ],
      "metadata": {
        "colab": {
          "base_uri": "https://localhost:8080/"
        },
        "id": "GBOHFlPsfusn",
        "outputId": "614d4979-9214-49e5-a567-3a4d3868a32f"
      },
      "execution_count": 382,
      "outputs": [
        {
          "output_type": "execute_result",
          "data": {
            "text/plain": [
              "((876, 13), (220, 13))"
            ]
          },
          "metadata": {},
          "execution_count": 382
        }
      ]
    },
    {
      "cell_type": "code",
      "source": [
        "Y_train.shape , Y_test.shape"
      ],
      "metadata": {
        "colab": {
          "base_uri": "https://localhost:8080/"
        },
        "id": "2YqBs9JskiAw",
        "outputId": "705e14f3-9d93-401d-f565-0d84135186fa"
      },
      "execution_count": 383,
      "outputs": [
        {
          "output_type": "execute_result",
          "data": {
            "text/plain": [
              "((876,), (220,))"
            ]
          },
          "metadata": {},
          "execution_count": 383
        }
      ]
    },
    {
      "cell_type": "markdown",
      "source": [
        "## **Machine Learning Model Building**"
      ],
      "metadata": {
        "id": "6cJaMXPkNkPy"
      }
    },
    {
      "cell_type": "markdown",
      "source": [
        "### **Logistic Regression**"
      ],
      "metadata": {
        "id": "cZawCmxkmJOt"
      }
    },
    {
      "cell_type": "code",
      "source": [
        "from sklearn.linear_model import LogisticRegression\n",
        "from sklearn.model_selection import GridSearchCV\n",
        "\n",
        "param_grid_lr = {'penalty':['l1','l2'], 'C' : [0.0001,0.001, 0.01, 0.1, 0.2, 0.3, 0.4, 0.5, 0.6, 0.7, 0.8, 0.9, 1, 10, 20, 50, 100] }\n",
        "\n",
        "logistic_model= GridSearchCV(LogisticRegression(), param_grid_lr, n_jobs = -1, verbose = 3, cv = 3)\n",
        "logistic_model.fit(X_train, y_train)"
      ],
      "metadata": {
        "colab": {
          "base_uri": "https://localhost:8080/"
        },
        "id": "dLKlghh5NlyM",
        "outputId": "6f2bd6ab-210a-415a-8e8d-47715a9e4860"
      },
      "execution_count": 384,
      "outputs": [
        {
          "output_type": "stream",
          "name": "stdout",
          "text": [
            "Fitting 3 folds for each of 34 candidates, totalling 102 fits\n"
          ]
        },
        {
          "output_type": "execute_result",
          "data": {
            "text/plain": [
              "GridSearchCV(cv=3, estimator=LogisticRegression(), n_jobs=-1,\n",
              "             param_grid={'C': [0.0001, 0.001, 0.01, 0.1, 0.2, 0.3, 0.4, 0.5,\n",
              "                               0.6, 0.7, 0.8, 0.9, 1, 10, 20, 50, 100],\n",
              "                         'penalty': ['l1', 'l2']},\n",
              "             verbose=3)"
            ]
          },
          "metadata": {},
          "execution_count": 384
        }
      ]
    },
    {
      "cell_type": "code",
      "source": [
        "logistic_model.best_estimator_"
      ],
      "metadata": {
        "colab": {
          "base_uri": "https://localhost:8080/"
        },
        "id": "nBY2Kk7INp0F",
        "outputId": "f35b4d10-af20-4d9c-a7f5-d1ea4e40a246"
      },
      "execution_count": 385,
      "outputs": [
        {
          "output_type": "execute_result",
          "data": {
            "text/plain": [
              "LogisticRegression(C=0.01)"
            ]
          },
          "metadata": {},
          "execution_count": 385
        }
      ]
    },
    {
      "cell_type": "code",
      "source": [
        "logistic_model.score(X_train, y_train)"
      ],
      "metadata": {
        "colab": {
          "base_uri": "https://localhost:8080/"
        },
        "id": "11t-FFe3NxXC",
        "outputId": "596e886c-0e21-4e8b-943e-ab29204b25b1"
      },
      "execution_count": 386,
      "outputs": [
        {
          "output_type": "execute_result",
          "data": {
            "text/plain": [
              "0.8858447488584474"
            ]
          },
          "metadata": {},
          "execution_count": 386
        }
      ]
    },
    {
      "cell_type": "code",
      "source": [
        "y_pred_logistic_train = logistic_model.predict(X_train)"
      ],
      "metadata": {
        "id": "dJs3Evg0QLHV"
      },
      "execution_count": 387,
      "outputs": []
    },
    {
      "cell_type": "code",
      "source": [
        "y_pred_logistic_test = logistic_model.predict(X_test)"
      ],
      "metadata": {
        "id": "giLCpu3DQLKP"
      },
      "execution_count": 388,
      "outputs": []
    },
    {
      "cell_type": "code",
      "source": [
        "from sklearn.metrics import accuracy_score, recall_score, precision_score, f1_score, roc_auc_score, confusion_matrix, roc_curve, auc"
      ],
      "metadata": {
        "id": "LlOX0WHvQLNH"
      },
      "execution_count": 389,
      "outputs": []
    },
    {
      "cell_type": "code",
      "source": [
        "logistic_train_accuracy= accuracy_score(y_train, y_pred_logistic_train)\n",
        "logistic_test_accuracy= accuracy_score(y_test, y_pred_logistic_test)\n",
        "\n",
        "print(\"The accuracy on train data is \", logistic_train_accuracy)\n",
        "print(\"The accuracy on test data is \", logistic_test_accuracy)"
      ],
      "metadata": {
        "colab": {
          "base_uri": "https://localhost:8080/"
        },
        "id": "jHwOBRN7QLP8",
        "outputId": "6a758dc4-c8a4-4258-f187-0551e23cbc5b"
      },
      "execution_count": 390,
      "outputs": [
        {
          "output_type": "stream",
          "name": "stdout",
          "text": [
            "The accuracy on train data is  0.8858447488584474\n",
            "The accuracy on test data is  0.8954545454545455\n"
          ]
        }
      ]
    },
    {
      "cell_type": "code",
      "source": [
        "logistic_test_precision= precision_score(y_test, y_pred_logistic_test)\n",
        "logistic_test_recall= recall_score(y_test, y_pred_logistic_test)\n",
        "logistic_test_f1score= f1_score(y_test, y_pred_logistic_test)"
      ],
      "metadata": {
        "id": "4C0K545BQLTB"
      },
      "execution_count": 391,
      "outputs": []
    },
    {
      "cell_type": "code",
      "source": [
        "model_results = pd.DataFrame([['Logistic Regression', logistic_test_accuracy, logistic_test_precision, logistic_test_recall, \n",
        "                         logistic_test_f1score]],\n",
        "               columns = ['Model', 'Accuracy', 'Precision', 'Recall', 'F1 Score'])\n",
        "model_results"
      ],
      "metadata": {
        "colab": {
          "base_uri": "https://localhost:8080/",
          "height": 81
        },
        "id": "E-SBQAaNQLVn",
        "outputId": "568e5778-8549-4378-d4ea-6c266247c9fb"
      },
      "execution_count": 392,
      "outputs": [
        {
          "output_type": "execute_result",
          "data": {
            "text/plain": [
              "                 Model  Accuracy  Precision    Recall  F1 Score\n",
              "0  Logistic Regression  0.895455   0.881818  0.906542  0.894009"
            ],
            "text/html": [
              "\n",
              "  <div id=\"df-880b5403-6b34-4b02-8531-86d6d2c4f791\">\n",
              "    <div class=\"colab-df-container\">\n",
              "      <div>\n",
              "<style scoped>\n",
              "    .dataframe tbody tr th:only-of-type {\n",
              "        vertical-align: middle;\n",
              "    }\n",
              "\n",
              "    .dataframe tbody tr th {\n",
              "        vertical-align: top;\n",
              "    }\n",
              "\n",
              "    .dataframe thead th {\n",
              "        text-align: right;\n",
              "    }\n",
              "</style>\n",
              "<table border=\"1\" class=\"dataframe\">\n",
              "  <thead>\n",
              "    <tr style=\"text-align: right;\">\n",
              "      <th></th>\n",
              "      <th>Model</th>\n",
              "      <th>Accuracy</th>\n",
              "      <th>Precision</th>\n",
              "      <th>Recall</th>\n",
              "      <th>F1 Score</th>\n",
              "    </tr>\n",
              "  </thead>\n",
              "  <tbody>\n",
              "    <tr>\n",
              "      <th>0</th>\n",
              "      <td>Logistic Regression</td>\n",
              "      <td>0.895455</td>\n",
              "      <td>0.881818</td>\n",
              "      <td>0.906542</td>\n",
              "      <td>0.894009</td>\n",
              "    </tr>\n",
              "  </tbody>\n",
              "</table>\n",
              "</div>\n",
              "      <button class=\"colab-df-convert\" onclick=\"convertToInteractive('df-880b5403-6b34-4b02-8531-86d6d2c4f791')\"\n",
              "              title=\"Convert this dataframe to an interactive table.\"\n",
              "              style=\"display:none;\">\n",
              "        \n",
              "  <svg xmlns=\"http://www.w3.org/2000/svg\" height=\"24px\"viewBox=\"0 0 24 24\"\n",
              "       width=\"24px\">\n",
              "    <path d=\"M0 0h24v24H0V0z\" fill=\"none\"/>\n",
              "    <path d=\"M18.56 5.44l.94 2.06.94-2.06 2.06-.94-2.06-.94-.94-2.06-.94 2.06-2.06.94zm-11 1L8.5 8.5l.94-2.06 2.06-.94-2.06-.94L8.5 2.5l-.94 2.06-2.06.94zm10 10l.94 2.06.94-2.06 2.06-.94-2.06-.94-.94-2.06-.94 2.06-2.06.94z\"/><path d=\"M17.41 7.96l-1.37-1.37c-.4-.4-.92-.59-1.43-.59-.52 0-1.04.2-1.43.59L10.3 9.45l-7.72 7.72c-.78.78-.78 2.05 0 2.83L4 21.41c.39.39.9.59 1.41.59.51 0 1.02-.2 1.41-.59l7.78-7.78 2.81-2.81c.8-.78.8-2.07 0-2.86zM5.41 20L4 18.59l7.72-7.72 1.47 1.35L5.41 20z\"/>\n",
              "  </svg>\n",
              "      </button>\n",
              "      \n",
              "  <style>\n",
              "    .colab-df-container {\n",
              "      display:flex;\n",
              "      flex-wrap:wrap;\n",
              "      gap: 12px;\n",
              "    }\n",
              "\n",
              "    .colab-df-convert {\n",
              "      background-color: #E8F0FE;\n",
              "      border: none;\n",
              "      border-radius: 50%;\n",
              "      cursor: pointer;\n",
              "      display: none;\n",
              "      fill: #1967D2;\n",
              "      height: 32px;\n",
              "      padding: 0 0 0 0;\n",
              "      width: 32px;\n",
              "    }\n",
              "\n",
              "    .colab-df-convert:hover {\n",
              "      background-color: #E2EBFA;\n",
              "      box-shadow: 0px 1px 2px rgba(60, 64, 67, 0.3), 0px 1px 3px 1px rgba(60, 64, 67, 0.15);\n",
              "      fill: #174EA6;\n",
              "    }\n",
              "\n",
              "    [theme=dark] .colab-df-convert {\n",
              "      background-color: #3B4455;\n",
              "      fill: #D2E3FC;\n",
              "    }\n",
              "\n",
              "    [theme=dark] .colab-df-convert:hover {\n",
              "      background-color: #434B5C;\n",
              "      box-shadow: 0px 1px 3px 1px rgba(0, 0, 0, 0.15);\n",
              "      filter: drop-shadow(0px 1px 2px rgba(0, 0, 0, 0.3));\n",
              "      fill: #FFFFFF;\n",
              "    }\n",
              "  </style>\n",
              "\n",
              "      <script>\n",
              "        const buttonEl =\n",
              "          document.querySelector('#df-880b5403-6b34-4b02-8531-86d6d2c4f791 button.colab-df-convert');\n",
              "        buttonEl.style.display =\n",
              "          google.colab.kernel.accessAllowed ? 'block' : 'none';\n",
              "\n",
              "        async function convertToInteractive(key) {\n",
              "          const element = document.querySelector('#df-880b5403-6b34-4b02-8531-86d6d2c4f791');\n",
              "          const dataTable =\n",
              "            await google.colab.kernel.invokeFunction('convertToInteractive',\n",
              "                                                     [key], {});\n",
              "          if (!dataTable) return;\n",
              "\n",
              "          const docLinkHtml = 'Like what you see? Visit the ' +\n",
              "            '<a target=\"_blank\" href=https://colab.research.google.com/notebooks/data_table.ipynb>data table notebook</a>'\n",
              "            + ' to learn more about interactive tables.';\n",
              "          element.innerHTML = '';\n",
              "          dataTable['output_type'] = 'display_data';\n",
              "          await google.colab.output.renderOutput(dataTable, element);\n",
              "          const docLink = document.createElement('div');\n",
              "          docLink.innerHTML = docLinkHtml;\n",
              "          element.appendChild(docLink);\n",
              "        }\n",
              "      </script>\n",
              "    </div>\n",
              "  </div>\n",
              "  "
            ]
          },
          "metadata": {},
          "execution_count": 392
        }
      ]
    },
    {
      "cell_type": "code",
      "source": [],
      "metadata": {
        "id": "M-WkSokiQLYq"
      },
      "execution_count": 392,
      "outputs": []
    },
    {
      "cell_type": "markdown",
      "source": [
        "### **Decision Tree**"
      ],
      "metadata": {
        "id": "hw4XiuXwdHNe"
      }
    },
    {
      "cell_type": "code",
      "source": [
        "from sklearn.tree import DecisionTreeClassifier\n",
        "\n",
        "param_grid_dt = {'max_depth':[2,4,6,8,10],\n",
        "              'min_samples_leaf':[2,4,6,8,10], \n",
        "              'min_samples_split':[2,4,6,8,10],\n",
        "              }\n",
        "\n",
        "dt_model = GridSearchCV(DecisionTreeClassifier(), param_grid= param_grid_dt, scoring = 'recall', cv=3, n_jobs=-1)\n",
        "dt_model.fit(X_train, y_train)"
      ],
      "metadata": {
        "colab": {
          "base_uri": "https://localhost:8080/"
        },
        "id": "gF-XxxAVQLbf",
        "outputId": "7e8300c7-5354-485c-de16-c9d0d27e8e95"
      },
      "execution_count": 393,
      "outputs": [
        {
          "output_type": "execute_result",
          "data": {
            "text/plain": [
              "GridSearchCV(cv=3, estimator=DecisionTreeClassifier(), n_jobs=-1,\n",
              "             param_grid={'max_depth': [2, 4, 6, 8, 10],\n",
              "                         'min_samples_leaf': [2, 4, 6, 8, 10],\n",
              "                         'min_samples_split': [2, 4, 6, 8, 10]},\n",
              "             scoring='recall')"
            ]
          },
          "metadata": {},
          "execution_count": 393
        }
      ]
    },
    {
      "cell_type": "code",
      "source": [
        "dt_model.best_params_"
      ],
      "metadata": {
        "colab": {
          "base_uri": "https://localhost:8080/"
        },
        "id": "If9Fb9apQLeJ",
        "outputId": "b6c68166-c79d-4e5a-bf04-1f9dda9395bc"
      },
      "execution_count": 394,
      "outputs": [
        {
          "output_type": "execute_result",
          "data": {
            "text/plain": [
              "{'max_depth': 2, 'min_samples_leaf': 2, 'min_samples_split': 2}"
            ]
          },
          "metadata": {},
          "execution_count": 394
        }
      ]
    },
    {
      "cell_type": "code",
      "source": [
        "dt_model.score(X_train, y_train)"
      ],
      "metadata": {
        "colab": {
          "base_uri": "https://localhost:8080/"
        },
        "id": "JbhxUBYTQLhj",
        "outputId": "bff70b22-4067-4c7e-d492-d8027ea9a8b3"
      },
      "execution_count": 395,
      "outputs": [
        {
          "output_type": "execute_result",
          "data": {
            "text/plain": [
              "0.9485861182519281"
            ]
          },
          "metadata": {},
          "execution_count": 395
        }
      ]
    },
    {
      "cell_type": "code",
      "source": [
        "y_pred_dt_train = dt_model.predict(X_train)\n",
        "y_pred_dt_test = dt_model.predict(X_test)"
      ],
      "metadata": {
        "id": "vWz2lCPDUVof"
      },
      "execution_count": 396,
      "outputs": []
    },
    {
      "cell_type": "code",
      "source": [
        "dt_train_accuracy= accuracy_score(y_train, y_pred_dt_train)\n",
        "dt_test_accuracy= accuracy_score(y_test, y_pred_dt_test)\n",
        "\n",
        "print(\"The accuracy on train data is \", dt_train_accuracy)\n",
        "print(\"The accuracy on test data is \", dt_test_accuracy)"
      ],
      "metadata": {
        "colab": {
          "base_uri": "https://localhost:8080/"
        },
        "id": "VCWvSt1yUayA",
        "outputId": "eecfd34d-ac20-44ec-9587-18550f089379"
      },
      "execution_count": 397,
      "outputs": [
        {
          "output_type": "stream",
          "name": "stdout",
          "text": [
            "The accuracy on train data is  0.884703196347032\n",
            "The accuracy on test data is  0.8772727272727273\n"
          ]
        }
      ]
    },
    {
      "cell_type": "code",
      "source": [
        "dt_test_precision= precision_score(y_test, y_pred_dt_test)\n",
        "dt_test_recall= recall_score(y_test, y_pred_dt_test)\n",
        "dt_test_f1score= f1_score(y_test, y_pred_dt_test)"
      ],
      "metadata": {
        "id": "ZukXtOtSUqwj"
      },
      "execution_count": 398,
      "outputs": []
    },
    {
      "cell_type": "code",
      "source": [
        "model = pd.DataFrame([['Decision Tree Classifier', dt_test_accuracy, dt_test_precision, dt_test_recall, \n",
        "                         dt_test_f1score]],\n",
        "               columns = ['Model', 'Accuracy', 'Precision', 'Recall', 'F1 Score'])\n",
        "model_results= model_results.append(model, ignore_index = True)\n",
        "model_results"
      ],
      "metadata": {
        "colab": {
          "base_uri": "https://localhost:8080/",
          "height": 112
        },
        "id": "Str6HycrU6Vd",
        "outputId": "fb6b67ef-bafa-4ab0-ec68-5272eb495f3d"
      },
      "execution_count": 399,
      "outputs": [
        {
          "output_type": "execute_result",
          "data": {
            "text/plain": [
              "                      Model  Accuracy  Precision    Recall  F1 Score\n",
              "0       Logistic Regression  0.895455   0.881818  0.906542  0.894009\n",
              "1  Decision Tree Classifier  0.877273   0.833333  0.934579  0.881057"
            ],
            "text/html": [
              "\n",
              "  <div id=\"df-a195b23c-b1aa-4870-816f-9415064bafe6\">\n",
              "    <div class=\"colab-df-container\">\n",
              "      <div>\n",
              "<style scoped>\n",
              "    .dataframe tbody tr th:only-of-type {\n",
              "        vertical-align: middle;\n",
              "    }\n",
              "\n",
              "    .dataframe tbody tr th {\n",
              "        vertical-align: top;\n",
              "    }\n",
              "\n",
              "    .dataframe thead th {\n",
              "        text-align: right;\n",
              "    }\n",
              "</style>\n",
              "<table border=\"1\" class=\"dataframe\">\n",
              "  <thead>\n",
              "    <tr style=\"text-align: right;\">\n",
              "      <th></th>\n",
              "      <th>Model</th>\n",
              "      <th>Accuracy</th>\n",
              "      <th>Precision</th>\n",
              "      <th>Recall</th>\n",
              "      <th>F1 Score</th>\n",
              "    </tr>\n",
              "  </thead>\n",
              "  <tbody>\n",
              "    <tr>\n",
              "      <th>0</th>\n",
              "      <td>Logistic Regression</td>\n",
              "      <td>0.895455</td>\n",
              "      <td>0.881818</td>\n",
              "      <td>0.906542</td>\n",
              "      <td>0.894009</td>\n",
              "    </tr>\n",
              "    <tr>\n",
              "      <th>1</th>\n",
              "      <td>Decision Tree Classifier</td>\n",
              "      <td>0.877273</td>\n",
              "      <td>0.833333</td>\n",
              "      <td>0.934579</td>\n",
              "      <td>0.881057</td>\n",
              "    </tr>\n",
              "  </tbody>\n",
              "</table>\n",
              "</div>\n",
              "      <button class=\"colab-df-convert\" onclick=\"convertToInteractive('df-a195b23c-b1aa-4870-816f-9415064bafe6')\"\n",
              "              title=\"Convert this dataframe to an interactive table.\"\n",
              "              style=\"display:none;\">\n",
              "        \n",
              "  <svg xmlns=\"http://www.w3.org/2000/svg\" height=\"24px\"viewBox=\"0 0 24 24\"\n",
              "       width=\"24px\">\n",
              "    <path d=\"M0 0h24v24H0V0z\" fill=\"none\"/>\n",
              "    <path d=\"M18.56 5.44l.94 2.06.94-2.06 2.06-.94-2.06-.94-.94-2.06-.94 2.06-2.06.94zm-11 1L8.5 8.5l.94-2.06 2.06-.94-2.06-.94L8.5 2.5l-.94 2.06-2.06.94zm10 10l.94 2.06.94-2.06 2.06-.94-2.06-.94-.94-2.06-.94 2.06-2.06.94z\"/><path d=\"M17.41 7.96l-1.37-1.37c-.4-.4-.92-.59-1.43-.59-.52 0-1.04.2-1.43.59L10.3 9.45l-7.72 7.72c-.78.78-.78 2.05 0 2.83L4 21.41c.39.39.9.59 1.41.59.51 0 1.02-.2 1.41-.59l7.78-7.78 2.81-2.81c.8-.78.8-2.07 0-2.86zM5.41 20L4 18.59l7.72-7.72 1.47 1.35L5.41 20z\"/>\n",
              "  </svg>\n",
              "      </button>\n",
              "      \n",
              "  <style>\n",
              "    .colab-df-container {\n",
              "      display:flex;\n",
              "      flex-wrap:wrap;\n",
              "      gap: 12px;\n",
              "    }\n",
              "\n",
              "    .colab-df-convert {\n",
              "      background-color: #E8F0FE;\n",
              "      border: none;\n",
              "      border-radius: 50%;\n",
              "      cursor: pointer;\n",
              "      display: none;\n",
              "      fill: #1967D2;\n",
              "      height: 32px;\n",
              "      padding: 0 0 0 0;\n",
              "      width: 32px;\n",
              "    }\n",
              "\n",
              "    .colab-df-convert:hover {\n",
              "      background-color: #E2EBFA;\n",
              "      box-shadow: 0px 1px 2px rgba(60, 64, 67, 0.3), 0px 1px 3px 1px rgba(60, 64, 67, 0.15);\n",
              "      fill: #174EA6;\n",
              "    }\n",
              "\n",
              "    [theme=dark] .colab-df-convert {\n",
              "      background-color: #3B4455;\n",
              "      fill: #D2E3FC;\n",
              "    }\n",
              "\n",
              "    [theme=dark] .colab-df-convert:hover {\n",
              "      background-color: #434B5C;\n",
              "      box-shadow: 0px 1px 3px 1px rgba(0, 0, 0, 0.15);\n",
              "      filter: drop-shadow(0px 1px 2px rgba(0, 0, 0, 0.3));\n",
              "      fill: #FFFFFF;\n",
              "    }\n",
              "  </style>\n",
              "\n",
              "      <script>\n",
              "        const buttonEl =\n",
              "          document.querySelector('#df-a195b23c-b1aa-4870-816f-9415064bafe6 button.colab-df-convert');\n",
              "        buttonEl.style.display =\n",
              "          google.colab.kernel.accessAllowed ? 'block' : 'none';\n",
              "\n",
              "        async function convertToInteractive(key) {\n",
              "          const element = document.querySelector('#df-a195b23c-b1aa-4870-816f-9415064bafe6');\n",
              "          const dataTable =\n",
              "            await google.colab.kernel.invokeFunction('convertToInteractive',\n",
              "                                                     [key], {});\n",
              "          if (!dataTable) return;\n",
              "\n",
              "          const docLinkHtml = 'Like what you see? Visit the ' +\n",
              "            '<a target=\"_blank\" href=https://colab.research.google.com/notebooks/data_table.ipynb>data table notebook</a>'\n",
              "            + ' to learn more about interactive tables.';\n",
              "          element.innerHTML = '';\n",
              "          dataTable['output_type'] = 'display_data';\n",
              "          await google.colab.output.renderOutput(dataTable, element);\n",
              "          const docLink = document.createElement('div');\n",
              "          docLink.innerHTML = docLinkHtml;\n",
              "          element.appendChild(docLink);\n",
              "        }\n",
              "      </script>\n",
              "    </div>\n",
              "  </div>\n",
              "  "
            ]
          },
          "metadata": {},
          "execution_count": 399
        }
      ]
    },
    {
      "cell_type": "markdown",
      "source": [
        "### **Random Forest**"
      ],
      "metadata": {
        "id": "Gku5ShlaoLQA"
      }
    },
    {
      "cell_type": "code",
      "source": [
        "# Random forest\n",
        "\n",
        "# creating object for model: random forest classifier\n",
        "\n",
        "from sklearn.ensemble import RandomForestClassifier\n",
        "\n",
        "param_grid_rf = {\n",
        "    'n_estimators': [50, 100, 200],\n",
        "    'max_depth': [2, 5, 10],\n",
        "    'min_samples_split': [2, 5, 10]\n",
        "}\n",
        "\n",
        "\n",
        "rf = RandomForestClassifier()\n",
        "rf_model = GridSearchCV(rf, param_grid=param_grid_rf, cv=5, n_jobs=-1)\n",
        "rf_model.fit(X_train, y_train)\n"
      ],
      "metadata": {
        "colab": {
          "base_uri": "https://localhost:8080/"
        },
        "id": "sLFxJcmHVJFD",
        "outputId": "84442515-c8ad-4e0d-819c-5111400439b2"
      },
      "execution_count": 400,
      "outputs": [
        {
          "output_type": "execute_result",
          "data": {
            "text/plain": [
              "GridSearchCV(cv=5, estimator=RandomForestClassifier(), n_jobs=-1,\n",
              "             param_grid={'max_depth': [2, 5, 10],\n",
              "                         'min_samples_split': [2, 5, 10],\n",
              "                         'n_estimators': [50, 100, 200]})"
            ]
          },
          "metadata": {},
          "execution_count": 400
        }
      ]
    },
    {
      "cell_type": "code",
      "source": [
        "rf_model.best_params_"
      ],
      "metadata": {
        "colab": {
          "base_uri": "https://localhost:8080/"
        },
        "id": "DdgkYj9CW_Fm",
        "outputId": "e94a2e50-b50b-4027-b57e-bfbcb39bb360"
      },
      "execution_count": 401,
      "outputs": [
        {
          "output_type": "execute_result",
          "data": {
            "text/plain": [
              "{'max_depth': 10, 'min_samples_split': 10, 'n_estimators': 50}"
            ]
          },
          "metadata": {},
          "execution_count": 401
        }
      ]
    },
    {
      "cell_type": "code",
      "source": [
        "rf_model.score(X_train, y_train)"
      ],
      "metadata": {
        "colab": {
          "base_uri": "https://localhost:8080/"
        },
        "id": "E6KYIWR1XDiw",
        "outputId": "2f7b568e-c87e-40df-ff09-550aa4fd9bdb"
      },
      "execution_count": 402,
      "outputs": [
        {
          "output_type": "execute_result",
          "data": {
            "text/plain": [
              "0.9726027397260274"
            ]
          },
          "metadata": {},
          "execution_count": 402
        }
      ]
    },
    {
      "cell_type": "code",
      "source": [
        "y_pred_rf_train = rf_model.predict(X_train)\n",
        "y_pred_rf_test = rf_model.predict(X_test)"
      ],
      "metadata": {
        "id": "pBSrHmFpXDlo"
      },
      "execution_count": 403,
      "outputs": []
    },
    {
      "cell_type": "code",
      "source": [
        "rf_train_accuracy= accuracy_score(y_train, y_pred_rf_train)\n",
        "rf_test_accuracy= accuracy_score(y_test, y_pred_rf_test)\n",
        "\n",
        "print(\"The accuracy on train data is \", rf_train_accuracy)\n",
        "print(\"The accuracy on test data is \",rf_test_accuracy)"
      ],
      "metadata": {
        "colab": {
          "base_uri": "https://localhost:8080/"
        },
        "id": "IiWQPEijXDrp",
        "outputId": "6eb3d7fe-1b47-4f15-e3c4-44e0b0c2b6b7"
      },
      "execution_count": 404,
      "outputs": [
        {
          "output_type": "stream",
          "name": "stdout",
          "text": [
            "The accuracy on train data is  0.9726027397260274\n",
            "The accuracy on test data is  0.9\n"
          ]
        }
      ]
    },
    {
      "cell_type": "code",
      "source": [
        "rf_test_precision= precision_score(y_test, y_pred_rf_test)\n",
        "rf_test_recall= recall_score(y_test, y_pred_rf_test)\n",
        "rf_test_f1score= f1_score(y_test, y_pred_rf_test)"
      ],
      "metadata": {
        "id": "kIYq5u9lXDuu"
      },
      "execution_count": 405,
      "outputs": []
    },
    {
      "cell_type": "code",
      "source": [
        "model = pd.DataFrame([['Random Forest Classifier', rf_test_accuracy, rf_test_precision, rf_test_recall, \n",
        "                         rf_test_f1score]],\n",
        "               columns = ['Model', 'Accuracy', 'Precision', 'Recall', 'F1 Score'])\n",
        "model_results= model_results.append(model, ignore_index = True)\n",
        "model_results"
      ],
      "metadata": {
        "colab": {
          "base_uri": "https://localhost:8080/",
          "height": 144
        },
        "id": "8_dDg7fYXlB4",
        "outputId": "b7e04bdd-2c20-402d-d815-4dbb28b0503a"
      },
      "execution_count": 406,
      "outputs": [
        {
          "output_type": "execute_result",
          "data": {
            "text/plain": [
              "                      Model  Accuracy  Precision    Recall  F1 Score\n",
              "0       Logistic Regression  0.895455   0.881818  0.906542  0.894009\n",
              "1  Decision Tree Classifier  0.877273   0.833333  0.934579  0.881057\n",
              "2  Random Forest Classifier  0.900000   0.904762  0.887850  0.896226"
            ],
            "text/html": [
              "\n",
              "  <div id=\"df-457be04f-3c78-47da-81a1-b8ba4bfc9e61\">\n",
              "    <div class=\"colab-df-container\">\n",
              "      <div>\n",
              "<style scoped>\n",
              "    .dataframe tbody tr th:only-of-type {\n",
              "        vertical-align: middle;\n",
              "    }\n",
              "\n",
              "    .dataframe tbody tr th {\n",
              "        vertical-align: top;\n",
              "    }\n",
              "\n",
              "    .dataframe thead th {\n",
              "        text-align: right;\n",
              "    }\n",
              "</style>\n",
              "<table border=\"1\" class=\"dataframe\">\n",
              "  <thead>\n",
              "    <tr style=\"text-align: right;\">\n",
              "      <th></th>\n",
              "      <th>Model</th>\n",
              "      <th>Accuracy</th>\n",
              "      <th>Precision</th>\n",
              "      <th>Recall</th>\n",
              "      <th>F1 Score</th>\n",
              "    </tr>\n",
              "  </thead>\n",
              "  <tbody>\n",
              "    <tr>\n",
              "      <th>0</th>\n",
              "      <td>Logistic Regression</td>\n",
              "      <td>0.895455</td>\n",
              "      <td>0.881818</td>\n",
              "      <td>0.906542</td>\n",
              "      <td>0.894009</td>\n",
              "    </tr>\n",
              "    <tr>\n",
              "      <th>1</th>\n",
              "      <td>Decision Tree Classifier</td>\n",
              "      <td>0.877273</td>\n",
              "      <td>0.833333</td>\n",
              "      <td>0.934579</td>\n",
              "      <td>0.881057</td>\n",
              "    </tr>\n",
              "    <tr>\n",
              "      <th>2</th>\n",
              "      <td>Random Forest Classifier</td>\n",
              "      <td>0.900000</td>\n",
              "      <td>0.904762</td>\n",
              "      <td>0.887850</td>\n",
              "      <td>0.896226</td>\n",
              "    </tr>\n",
              "  </tbody>\n",
              "</table>\n",
              "</div>\n",
              "      <button class=\"colab-df-convert\" onclick=\"convertToInteractive('df-457be04f-3c78-47da-81a1-b8ba4bfc9e61')\"\n",
              "              title=\"Convert this dataframe to an interactive table.\"\n",
              "              style=\"display:none;\">\n",
              "        \n",
              "  <svg xmlns=\"http://www.w3.org/2000/svg\" height=\"24px\"viewBox=\"0 0 24 24\"\n",
              "       width=\"24px\">\n",
              "    <path d=\"M0 0h24v24H0V0z\" fill=\"none\"/>\n",
              "    <path d=\"M18.56 5.44l.94 2.06.94-2.06 2.06-.94-2.06-.94-.94-2.06-.94 2.06-2.06.94zm-11 1L8.5 8.5l.94-2.06 2.06-.94-2.06-.94L8.5 2.5l-.94 2.06-2.06.94zm10 10l.94 2.06.94-2.06 2.06-.94-2.06-.94-.94-2.06-.94 2.06-2.06.94z\"/><path d=\"M17.41 7.96l-1.37-1.37c-.4-.4-.92-.59-1.43-.59-.52 0-1.04.2-1.43.59L10.3 9.45l-7.72 7.72c-.78.78-.78 2.05 0 2.83L4 21.41c.39.39.9.59 1.41.59.51 0 1.02-.2 1.41-.59l7.78-7.78 2.81-2.81c.8-.78.8-2.07 0-2.86zM5.41 20L4 18.59l7.72-7.72 1.47 1.35L5.41 20z\"/>\n",
              "  </svg>\n",
              "      </button>\n",
              "      \n",
              "  <style>\n",
              "    .colab-df-container {\n",
              "      display:flex;\n",
              "      flex-wrap:wrap;\n",
              "      gap: 12px;\n",
              "    }\n",
              "\n",
              "    .colab-df-convert {\n",
              "      background-color: #E8F0FE;\n",
              "      border: none;\n",
              "      border-radius: 50%;\n",
              "      cursor: pointer;\n",
              "      display: none;\n",
              "      fill: #1967D2;\n",
              "      height: 32px;\n",
              "      padding: 0 0 0 0;\n",
              "      width: 32px;\n",
              "    }\n",
              "\n",
              "    .colab-df-convert:hover {\n",
              "      background-color: #E2EBFA;\n",
              "      box-shadow: 0px 1px 2px rgba(60, 64, 67, 0.3), 0px 1px 3px 1px rgba(60, 64, 67, 0.15);\n",
              "      fill: #174EA6;\n",
              "    }\n",
              "\n",
              "    [theme=dark] .colab-df-convert {\n",
              "      background-color: #3B4455;\n",
              "      fill: #D2E3FC;\n",
              "    }\n",
              "\n",
              "    [theme=dark] .colab-df-convert:hover {\n",
              "      background-color: #434B5C;\n",
              "      box-shadow: 0px 1px 3px 1px rgba(0, 0, 0, 0.15);\n",
              "      filter: drop-shadow(0px 1px 2px rgba(0, 0, 0, 0.3));\n",
              "      fill: #FFFFFF;\n",
              "    }\n",
              "  </style>\n",
              "\n",
              "      <script>\n",
              "        const buttonEl =\n",
              "          document.querySelector('#df-457be04f-3c78-47da-81a1-b8ba4bfc9e61 button.colab-df-convert');\n",
              "        buttonEl.style.display =\n",
              "          google.colab.kernel.accessAllowed ? 'block' : 'none';\n",
              "\n",
              "        async function convertToInteractive(key) {\n",
              "          const element = document.querySelector('#df-457be04f-3c78-47da-81a1-b8ba4bfc9e61');\n",
              "          const dataTable =\n",
              "            await google.colab.kernel.invokeFunction('convertToInteractive',\n",
              "                                                     [key], {});\n",
              "          if (!dataTable) return;\n",
              "\n",
              "          const docLinkHtml = 'Like what you see? Visit the ' +\n",
              "            '<a target=\"_blank\" href=https://colab.research.google.com/notebooks/data_table.ipynb>data table notebook</a>'\n",
              "            + ' to learn more about interactive tables.';\n",
              "          element.innerHTML = '';\n",
              "          dataTable['output_type'] = 'display_data';\n",
              "          await google.colab.output.renderOutput(dataTable, element);\n",
              "          const docLink = document.createElement('div');\n",
              "          docLink.innerHTML = docLinkHtml;\n",
              "          element.appendChild(docLink);\n",
              "        }\n",
              "      </script>\n",
              "    </div>\n",
              "  </div>\n",
              "  "
            ]
          },
          "metadata": {},
          "execution_count": 406
        }
      ]
    },
    {
      "cell_type": "code",
      "source": [],
      "metadata": {
        "id": "YeULTVwzYBZD"
      },
      "execution_count": 406,
      "outputs": []
    },
    {
      "cell_type": "markdown",
      "source": [
        "### **Default XGBoost Classifier**"
      ],
      "metadata": {
        "id": "ZAdOPkKVpIzx"
      }
    },
    {
      "cell_type": "code",
      "source": [
        "## Default XGBoost Classifier\n",
        "\n",
        "from xgboost import XGBClassifier\n",
        "xgb = XGBClassifier(class_weight='balanced')\n",
        "xgb.fit(X_train, y_train)"
      ],
      "metadata": {
        "colab": {
          "base_uri": "https://localhost:8080/"
        },
        "id": "3vpQ8XbuYS20",
        "outputId": "f302561e-1e37-4d4e-f5cb-37997b68a113"
      },
      "execution_count": 407,
      "outputs": [
        {
          "output_type": "execute_result",
          "data": {
            "text/plain": [
              "XGBClassifier(class_weight='balanced')"
            ]
          },
          "metadata": {},
          "execution_count": 407
        }
      ]
    },
    {
      "cell_type": "code",
      "source": [
        "xgb.score(X_train, y_train)"
      ],
      "metadata": {
        "colab": {
          "base_uri": "https://localhost:8080/"
        },
        "id": "X05aeB8iYUqN",
        "outputId": "f9a678e5-4268-4f4f-996d-1e4912233692"
      },
      "execution_count": 408,
      "outputs": [
        {
          "output_type": "execute_result",
          "data": {
            "text/plain": [
              "0.9691780821917808"
            ]
          },
          "metadata": {},
          "execution_count": 408
        }
      ]
    },
    {
      "cell_type": "code",
      "source": [
        "y_pred_default_xgb_train = xgb.predict(X_train)\n",
        "y_pred_default_xgb_test = xgb.predict(X_test)"
      ],
      "metadata": {
        "id": "ACFyqfCaYbiz"
      },
      "execution_count": 409,
      "outputs": []
    },
    {
      "cell_type": "code",
      "source": [],
      "metadata": {
        "id": "KHvv_mOuYilh"
      },
      "execution_count": 409,
      "outputs": []
    },
    {
      "cell_type": "code",
      "source": [
        "default_xgb_train_accuracy= accuracy_score(y_train, y_pred_default_xgb_train)\n",
        "default_xgb_test_accuracy= accuracy_score(y_test, y_pred_default_xgb_test)\n",
        "\n",
        "print(\"The accuracy on train data is \", default_xgb_train_accuracy)\n",
        "print(\"The accuracy on test data is \", default_xgb_test_accuracy)"
      ],
      "metadata": {
        "colab": {
          "base_uri": "https://localhost:8080/"
        },
        "id": "v8SLVHS2Yvqf",
        "outputId": "6c242487-553a-444d-d438-9cead8843b6a"
      },
      "execution_count": 410,
      "outputs": [
        {
          "output_type": "stream",
          "name": "stdout",
          "text": [
            "The accuracy on train data is  0.9691780821917808\n",
            "The accuracy on test data is  0.9045454545454545\n"
          ]
        }
      ]
    },
    {
      "cell_type": "code",
      "source": [
        "default_xgb_test_precision= precision_score(y_test, y_pred_default_xgb_test)\n",
        "default_xgb_test_recall= recall_score(y_test, y_pred_default_xgb_test)\n",
        "default_xgb_test_f1score= f1_score(y_test, y_pred_default_xgb_test)\n"
      ],
      "metadata": {
        "id": "HlGhv_gGYyfr"
      },
      "execution_count": 411,
      "outputs": []
    },
    {
      "cell_type": "code",
      "source": [
        "model = pd.DataFrame([['Default XGBoost Classifier', default_xgb_test_accuracy, default_xgb_test_precision, default_xgb_test_recall, \n",
        "                         default_xgb_test_f1score]],\n",
        "               columns = ['Model', 'Accuracy', 'Precision', 'Recall', 'F1 Score'])\n",
        "model_results= model_results.append(model, ignore_index = True)\n",
        "model_results"
      ],
      "metadata": {
        "colab": {
          "base_uri": "https://localhost:8080/",
          "height": 175
        },
        "id": "veTLvGC4Y3LB",
        "outputId": "bfd083f3-7b99-4ff4-a59b-83f6cd14197a"
      },
      "execution_count": 412,
      "outputs": [
        {
          "output_type": "execute_result",
          "data": {
            "text/plain": [
              "                        Model  Accuracy  Precision    Recall  F1 Score\n",
              "0         Logistic Regression  0.895455   0.881818  0.906542  0.894009\n",
              "1    Decision Tree Classifier  0.877273   0.833333  0.934579  0.881057\n",
              "2    Random Forest Classifier  0.900000   0.904762  0.887850  0.896226\n",
              "3  Default XGBoost Classifier  0.904545   0.930000  0.869159  0.898551"
            ],
            "text/html": [
              "\n",
              "  <div id=\"df-42fcd214-9211-4d2e-afa1-ee3d7b103db7\">\n",
              "    <div class=\"colab-df-container\">\n",
              "      <div>\n",
              "<style scoped>\n",
              "    .dataframe tbody tr th:only-of-type {\n",
              "        vertical-align: middle;\n",
              "    }\n",
              "\n",
              "    .dataframe tbody tr th {\n",
              "        vertical-align: top;\n",
              "    }\n",
              "\n",
              "    .dataframe thead th {\n",
              "        text-align: right;\n",
              "    }\n",
              "</style>\n",
              "<table border=\"1\" class=\"dataframe\">\n",
              "  <thead>\n",
              "    <tr style=\"text-align: right;\">\n",
              "      <th></th>\n",
              "      <th>Model</th>\n",
              "      <th>Accuracy</th>\n",
              "      <th>Precision</th>\n",
              "      <th>Recall</th>\n",
              "      <th>F1 Score</th>\n",
              "    </tr>\n",
              "  </thead>\n",
              "  <tbody>\n",
              "    <tr>\n",
              "      <th>0</th>\n",
              "      <td>Logistic Regression</td>\n",
              "      <td>0.895455</td>\n",
              "      <td>0.881818</td>\n",
              "      <td>0.906542</td>\n",
              "      <td>0.894009</td>\n",
              "    </tr>\n",
              "    <tr>\n",
              "      <th>1</th>\n",
              "      <td>Decision Tree Classifier</td>\n",
              "      <td>0.877273</td>\n",
              "      <td>0.833333</td>\n",
              "      <td>0.934579</td>\n",
              "      <td>0.881057</td>\n",
              "    </tr>\n",
              "    <tr>\n",
              "      <th>2</th>\n",
              "      <td>Random Forest Classifier</td>\n",
              "      <td>0.900000</td>\n",
              "      <td>0.904762</td>\n",
              "      <td>0.887850</td>\n",
              "      <td>0.896226</td>\n",
              "    </tr>\n",
              "    <tr>\n",
              "      <th>3</th>\n",
              "      <td>Default XGBoost Classifier</td>\n",
              "      <td>0.904545</td>\n",
              "      <td>0.930000</td>\n",
              "      <td>0.869159</td>\n",
              "      <td>0.898551</td>\n",
              "    </tr>\n",
              "  </tbody>\n",
              "</table>\n",
              "</div>\n",
              "      <button class=\"colab-df-convert\" onclick=\"convertToInteractive('df-42fcd214-9211-4d2e-afa1-ee3d7b103db7')\"\n",
              "              title=\"Convert this dataframe to an interactive table.\"\n",
              "              style=\"display:none;\">\n",
              "        \n",
              "  <svg xmlns=\"http://www.w3.org/2000/svg\" height=\"24px\"viewBox=\"0 0 24 24\"\n",
              "       width=\"24px\">\n",
              "    <path d=\"M0 0h24v24H0V0z\" fill=\"none\"/>\n",
              "    <path d=\"M18.56 5.44l.94 2.06.94-2.06 2.06-.94-2.06-.94-.94-2.06-.94 2.06-2.06.94zm-11 1L8.5 8.5l.94-2.06 2.06-.94-2.06-.94L8.5 2.5l-.94 2.06-2.06.94zm10 10l.94 2.06.94-2.06 2.06-.94-2.06-.94-.94-2.06-.94 2.06-2.06.94z\"/><path d=\"M17.41 7.96l-1.37-1.37c-.4-.4-.92-.59-1.43-.59-.52 0-1.04.2-1.43.59L10.3 9.45l-7.72 7.72c-.78.78-.78 2.05 0 2.83L4 21.41c.39.39.9.59 1.41.59.51 0 1.02-.2 1.41-.59l7.78-7.78 2.81-2.81c.8-.78.8-2.07 0-2.86zM5.41 20L4 18.59l7.72-7.72 1.47 1.35L5.41 20z\"/>\n",
              "  </svg>\n",
              "      </button>\n",
              "      \n",
              "  <style>\n",
              "    .colab-df-container {\n",
              "      display:flex;\n",
              "      flex-wrap:wrap;\n",
              "      gap: 12px;\n",
              "    }\n",
              "\n",
              "    .colab-df-convert {\n",
              "      background-color: #E8F0FE;\n",
              "      border: none;\n",
              "      border-radius: 50%;\n",
              "      cursor: pointer;\n",
              "      display: none;\n",
              "      fill: #1967D2;\n",
              "      height: 32px;\n",
              "      padding: 0 0 0 0;\n",
              "      width: 32px;\n",
              "    }\n",
              "\n",
              "    .colab-df-convert:hover {\n",
              "      background-color: #E2EBFA;\n",
              "      box-shadow: 0px 1px 2px rgba(60, 64, 67, 0.3), 0px 1px 3px 1px rgba(60, 64, 67, 0.15);\n",
              "      fill: #174EA6;\n",
              "    }\n",
              "\n",
              "    [theme=dark] .colab-df-convert {\n",
              "      background-color: #3B4455;\n",
              "      fill: #D2E3FC;\n",
              "    }\n",
              "\n",
              "    [theme=dark] .colab-df-convert:hover {\n",
              "      background-color: #434B5C;\n",
              "      box-shadow: 0px 1px 3px 1px rgba(0, 0, 0, 0.15);\n",
              "      filter: drop-shadow(0px 1px 2px rgba(0, 0, 0, 0.3));\n",
              "      fill: #FFFFFF;\n",
              "    }\n",
              "  </style>\n",
              "\n",
              "      <script>\n",
              "        const buttonEl =\n",
              "          document.querySelector('#df-42fcd214-9211-4d2e-afa1-ee3d7b103db7 button.colab-df-convert');\n",
              "        buttonEl.style.display =\n",
              "          google.colab.kernel.accessAllowed ? 'block' : 'none';\n",
              "\n",
              "        async function convertToInteractive(key) {\n",
              "          const element = document.querySelector('#df-42fcd214-9211-4d2e-afa1-ee3d7b103db7');\n",
              "          const dataTable =\n",
              "            await google.colab.kernel.invokeFunction('convertToInteractive',\n",
              "                                                     [key], {});\n",
              "          if (!dataTable) return;\n",
              "\n",
              "          const docLinkHtml = 'Like what you see? Visit the ' +\n",
              "            '<a target=\"_blank\" href=https://colab.research.google.com/notebooks/data_table.ipynb>data table notebook</a>'\n",
              "            + ' to learn more about interactive tables.';\n",
              "          element.innerHTML = '';\n",
              "          dataTable['output_type'] = 'display_data';\n",
              "          await google.colab.output.renderOutput(dataTable, element);\n",
              "          const docLink = document.createElement('div');\n",
              "          docLink.innerHTML = docLinkHtml;\n",
              "          element.appendChild(docLink);\n",
              "        }\n",
              "      </script>\n",
              "    </div>\n",
              "  </div>\n",
              "  "
            ]
          },
          "metadata": {},
          "execution_count": 412
        }
      ]
    },
    {
      "cell_type": "code",
      "source": [],
      "metadata": {
        "id": "hPjxdY3nY6GH"
      },
      "execution_count": 412,
      "outputs": []
    },
    {
      "cell_type": "markdown",
      "source": [
        "### **XGBoost Classifier with GridSearchCV**"
      ],
      "metadata": {
        "id": "RH2iXJccY9d2"
      }
    },
    {
      "cell_type": "code",
      "source": [
        "from xgboost import  XGBClassifier\n",
        "\n",
        "param_xgb ={'n_estimators': [50,80,100],\n",
        "            'max_depth': [3,5,7],\n",
        "            'learning_rate': [0.1,0.2], \n",
        "            'min_child_weight': [2,3]\n",
        "            }\n",
        "\n",
        "xgb_model = GridSearchCV(XGBClassifier(class_weight='balanced'), param_grid=param_xgb, scoring='recall', cv=3, n_jobs=-1)\n",
        "xgb_model.fit(X_train, y_train)"
      ],
      "metadata": {
        "colab": {
          "base_uri": "https://localhost:8080/"
        },
        "id": "VsI8Y686Y-Pb",
        "outputId": "ba8c85c7-2a38-4099-8995-0e6aa44939b3"
      },
      "execution_count": 413,
      "outputs": [
        {
          "output_type": "execute_result",
          "data": {
            "text/plain": [
              "GridSearchCV(cv=3, estimator=XGBClassifier(class_weight='balanced'), n_jobs=-1,\n",
              "             param_grid={'learning_rate': [0.1, 0.2], 'max_depth': [3, 5, 7],\n",
              "                         'min_child_weight': [2, 3],\n",
              "                         'n_estimators': [50, 80, 100]},\n",
              "             scoring='recall')"
            ]
          },
          "metadata": {},
          "execution_count": 413
        }
      ]
    },
    {
      "cell_type": "code",
      "source": [
        "xgb_model.best_params_"
      ],
      "metadata": {
        "colab": {
          "base_uri": "https://localhost:8080/"
        },
        "id": "WDnBjkQpZFAW",
        "outputId": "7240c469-e46c-4989-c98a-94b1764c2cef"
      },
      "execution_count": 414,
      "outputs": [
        {
          "output_type": "execute_result",
          "data": {
            "text/plain": [
              "{'learning_rate': 0.2,\n",
              " 'max_depth': 3,\n",
              " 'min_child_weight': 3,\n",
              " 'n_estimators': 80}"
            ]
          },
          "metadata": {},
          "execution_count": 414
        }
      ]
    },
    {
      "cell_type": "code",
      "source": [
        "xgb_model.score(X_train, y_train)"
      ],
      "metadata": {
        "colab": {
          "base_uri": "https://localhost:8080/"
        },
        "id": "UxUbDaW-ZJgu",
        "outputId": "23d0d77f-52e0-41ca-bf17-7d23b1e16b11"
      },
      "execution_count": 415,
      "outputs": [
        {
          "output_type": "execute_result",
          "data": {
            "text/plain": [
              "0.9820051413881749"
            ]
          },
          "metadata": {},
          "execution_count": 415
        }
      ]
    },
    {
      "cell_type": "code",
      "source": [
        "y_pred_xgb_train = xgb_model.predict(X_train)\n",
        "y_pred_xgb_test = xgb_model.predict(X_test)"
      ],
      "metadata": {
        "id": "D3ezlOBzZMqJ"
      },
      "execution_count": 416,
      "outputs": []
    },
    {
      "cell_type": "code",
      "source": [
        "xgb_train_accuracy= accuracy_score(y_train, y_pred_xgb_train)\n",
        "xgb_test_accuracy= accuracy_score(y_test, y_pred_xgb_test)\n",
        "\n",
        "print(\"The accuracy on train data is \", xgb_train_accuracy)\n",
        "print(\"The accuracy on test data is \", xgb_test_accuracy)"
      ],
      "metadata": {
        "colab": {
          "base_uri": "https://localhost:8080/"
        },
        "id": "vhEqyiURZUvg",
        "outputId": "5c383e54-5f1f-408d-9439-63b256e59209"
      },
      "execution_count": 417,
      "outputs": [
        {
          "output_type": "stream",
          "name": "stdout",
          "text": [
            "The accuracy on train data is  0.9828767123287672\n",
            "The accuracy on test data is  0.9\n"
          ]
        }
      ]
    },
    {
      "cell_type": "code",
      "source": [
        "xgb_test_precision= precision_score(y_test, y_pred_xgb_test)\n",
        "xgb_test_recall= recall_score(y_test, y_pred_xgb_test)\n",
        "xgb_test_f1score= f1_score(y_test, y_pred_xgb_test)\n"
      ],
      "metadata": {
        "id": "jea-zIFWZX13"
      },
      "execution_count": 418,
      "outputs": []
    },
    {
      "cell_type": "code",
      "source": [
        "model = pd.DataFrame([['GridSearch XGBoost Classifier', xgb_test_accuracy, xgb_test_precision, xgb_test_recall, xgb_test_f1score]],\n",
        "               columns = ['Model', 'Accuracy', 'Precision', 'Recall', 'F1 Score'])\n",
        "model_results= model_results.append(model, ignore_index = True)\n",
        "model_results"
      ],
      "metadata": {
        "colab": {
          "base_uri": "https://localhost:8080/",
          "height": 206
        },
        "id": "ZQFDz5heZcXK",
        "outputId": "2639fb02-b101-49ae-dc99-23878f15b2a0"
      },
      "execution_count": 419,
      "outputs": [
        {
          "output_type": "execute_result",
          "data": {
            "text/plain": [
              "                           Model  Accuracy  Precision    Recall  F1 Score\n",
              "0            Logistic Regression  0.895455   0.881818  0.906542  0.894009\n",
              "1       Decision Tree Classifier  0.877273   0.833333  0.934579  0.881057\n",
              "2       Random Forest Classifier  0.900000   0.904762  0.887850  0.896226\n",
              "3     Default XGBoost Classifier  0.904545   0.930000  0.869159  0.898551\n",
              "4  GridSearch XGBoost Classifier  0.900000   0.920792  0.869159  0.894231"
            ],
            "text/html": [
              "\n",
              "  <div id=\"df-6bad3795-fa33-473d-a687-5019b728d8d4\">\n",
              "    <div class=\"colab-df-container\">\n",
              "      <div>\n",
              "<style scoped>\n",
              "    .dataframe tbody tr th:only-of-type {\n",
              "        vertical-align: middle;\n",
              "    }\n",
              "\n",
              "    .dataframe tbody tr th {\n",
              "        vertical-align: top;\n",
              "    }\n",
              "\n",
              "    .dataframe thead th {\n",
              "        text-align: right;\n",
              "    }\n",
              "</style>\n",
              "<table border=\"1\" class=\"dataframe\">\n",
              "  <thead>\n",
              "    <tr style=\"text-align: right;\">\n",
              "      <th></th>\n",
              "      <th>Model</th>\n",
              "      <th>Accuracy</th>\n",
              "      <th>Precision</th>\n",
              "      <th>Recall</th>\n",
              "      <th>F1 Score</th>\n",
              "    </tr>\n",
              "  </thead>\n",
              "  <tbody>\n",
              "    <tr>\n",
              "      <th>0</th>\n",
              "      <td>Logistic Regression</td>\n",
              "      <td>0.895455</td>\n",
              "      <td>0.881818</td>\n",
              "      <td>0.906542</td>\n",
              "      <td>0.894009</td>\n",
              "    </tr>\n",
              "    <tr>\n",
              "      <th>1</th>\n",
              "      <td>Decision Tree Classifier</td>\n",
              "      <td>0.877273</td>\n",
              "      <td>0.833333</td>\n",
              "      <td>0.934579</td>\n",
              "      <td>0.881057</td>\n",
              "    </tr>\n",
              "    <tr>\n",
              "      <th>2</th>\n",
              "      <td>Random Forest Classifier</td>\n",
              "      <td>0.900000</td>\n",
              "      <td>0.904762</td>\n",
              "      <td>0.887850</td>\n",
              "      <td>0.896226</td>\n",
              "    </tr>\n",
              "    <tr>\n",
              "      <th>3</th>\n",
              "      <td>Default XGBoost Classifier</td>\n",
              "      <td>0.904545</td>\n",
              "      <td>0.930000</td>\n",
              "      <td>0.869159</td>\n",
              "      <td>0.898551</td>\n",
              "    </tr>\n",
              "    <tr>\n",
              "      <th>4</th>\n",
              "      <td>GridSearch XGBoost Classifier</td>\n",
              "      <td>0.900000</td>\n",
              "      <td>0.920792</td>\n",
              "      <td>0.869159</td>\n",
              "      <td>0.894231</td>\n",
              "    </tr>\n",
              "  </tbody>\n",
              "</table>\n",
              "</div>\n",
              "      <button class=\"colab-df-convert\" onclick=\"convertToInteractive('df-6bad3795-fa33-473d-a687-5019b728d8d4')\"\n",
              "              title=\"Convert this dataframe to an interactive table.\"\n",
              "              style=\"display:none;\">\n",
              "        \n",
              "  <svg xmlns=\"http://www.w3.org/2000/svg\" height=\"24px\"viewBox=\"0 0 24 24\"\n",
              "       width=\"24px\">\n",
              "    <path d=\"M0 0h24v24H0V0z\" fill=\"none\"/>\n",
              "    <path d=\"M18.56 5.44l.94 2.06.94-2.06 2.06-.94-2.06-.94-.94-2.06-.94 2.06-2.06.94zm-11 1L8.5 8.5l.94-2.06 2.06-.94-2.06-.94L8.5 2.5l-.94 2.06-2.06.94zm10 10l.94 2.06.94-2.06 2.06-.94-2.06-.94-.94-2.06-.94 2.06-2.06.94z\"/><path d=\"M17.41 7.96l-1.37-1.37c-.4-.4-.92-.59-1.43-.59-.52 0-1.04.2-1.43.59L10.3 9.45l-7.72 7.72c-.78.78-.78 2.05 0 2.83L4 21.41c.39.39.9.59 1.41.59.51 0 1.02-.2 1.41-.59l7.78-7.78 2.81-2.81c.8-.78.8-2.07 0-2.86zM5.41 20L4 18.59l7.72-7.72 1.47 1.35L5.41 20z\"/>\n",
              "  </svg>\n",
              "      </button>\n",
              "      \n",
              "  <style>\n",
              "    .colab-df-container {\n",
              "      display:flex;\n",
              "      flex-wrap:wrap;\n",
              "      gap: 12px;\n",
              "    }\n",
              "\n",
              "    .colab-df-convert {\n",
              "      background-color: #E8F0FE;\n",
              "      border: none;\n",
              "      border-radius: 50%;\n",
              "      cursor: pointer;\n",
              "      display: none;\n",
              "      fill: #1967D2;\n",
              "      height: 32px;\n",
              "      padding: 0 0 0 0;\n",
              "      width: 32px;\n",
              "    }\n",
              "\n",
              "    .colab-df-convert:hover {\n",
              "      background-color: #E2EBFA;\n",
              "      box-shadow: 0px 1px 2px rgba(60, 64, 67, 0.3), 0px 1px 3px 1px rgba(60, 64, 67, 0.15);\n",
              "      fill: #174EA6;\n",
              "    }\n",
              "\n",
              "    [theme=dark] .colab-df-convert {\n",
              "      background-color: #3B4455;\n",
              "      fill: #D2E3FC;\n",
              "    }\n",
              "\n",
              "    [theme=dark] .colab-df-convert:hover {\n",
              "      background-color: #434B5C;\n",
              "      box-shadow: 0px 1px 3px 1px rgba(0, 0, 0, 0.15);\n",
              "      filter: drop-shadow(0px 1px 2px rgba(0, 0, 0, 0.3));\n",
              "      fill: #FFFFFF;\n",
              "    }\n",
              "  </style>\n",
              "\n",
              "      <script>\n",
              "        const buttonEl =\n",
              "          document.querySelector('#df-6bad3795-fa33-473d-a687-5019b728d8d4 button.colab-df-convert');\n",
              "        buttonEl.style.display =\n",
              "          google.colab.kernel.accessAllowed ? 'block' : 'none';\n",
              "\n",
              "        async function convertToInteractive(key) {\n",
              "          const element = document.querySelector('#df-6bad3795-fa33-473d-a687-5019b728d8d4');\n",
              "          const dataTable =\n",
              "            await google.colab.kernel.invokeFunction('convertToInteractive',\n",
              "                                                     [key], {});\n",
              "          if (!dataTable) return;\n",
              "\n",
              "          const docLinkHtml = 'Like what you see? Visit the ' +\n",
              "            '<a target=\"_blank\" href=https://colab.research.google.com/notebooks/data_table.ipynb>data table notebook</a>'\n",
              "            + ' to learn more about interactive tables.';\n",
              "          element.innerHTML = '';\n",
              "          dataTable['output_type'] = 'display_data';\n",
              "          await google.colab.output.renderOutput(dataTable, element);\n",
              "          const docLink = document.createElement('div');\n",
              "          docLink.innerHTML = docLinkHtml;\n",
              "          element.appendChild(docLink);\n",
              "        }\n",
              "      </script>\n",
              "    </div>\n",
              "  </div>\n",
              "  "
            ]
          },
          "metadata": {},
          "execution_count": 419
        }
      ]
    },
    {
      "cell_type": "code",
      "source": [],
      "metadata": {
        "id": "6Hno15EPZgva"
      },
      "execution_count": 419,
      "outputs": []
    },
    {
      "cell_type": "markdown",
      "source": [
        "## **Conclusion**"
      ],
      "metadata": {
        "id": "fDtHLdfopvTG"
      }
    },
    {
      "cell_type": "markdown",
      "source": [
        "Since all of the variable were giving me nearly equal F1 score, but different precision and recall values. so we have to choose ML models we have to use on different situatuion and use cases.\n",
        "\n",
        "for example in the instanes , where we have to check accracy of our positive prediction then we have to give more importance to high precision and at that time logistic regression and XGboost are good choice\n",
        "\n",
        "meanwhile in a situation where we have to check whether we are able to identify day of rainfall or not meanwhile how much true positive we are able to identify, in those instances we have to give more wqiegtahe to recall and decison tree will be most appropriate choice there\n",
        "\n",
        "in simple words \n",
        "Need to give importance to precison and check accuracy of our positive orediction then XGBOOST and Logistic regression ,\n",
        "and more importance to recall and check how much actual positive we are able to identify , then Decision Tree .\n"
      ],
      "metadata": {
        "id": "qGnzL5wXqOAp"
      }
    },
    {
      "cell_type": "code",
      "source": [],
      "metadata": {
        "id": "NTysVOpArp4M"
      },
      "execution_count": 419,
      "outputs": []
    }
  ]
}